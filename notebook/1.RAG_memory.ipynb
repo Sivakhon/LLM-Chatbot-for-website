{
 "cells": [
  {
   "cell_type": "code",
   "execution_count": 2,
   "metadata": {},
   "outputs": [],
   "source": [
    "from bs4 import BeautifulSoup\n",
    "import requests"
   ]
  },
  {
   "cell_type": "code",
   "execution_count": 8,
   "metadata": {},
   "outputs": [
    {
     "name": "stdout",
     "output_type": "stream",
     "text": [
      "['\\nEnglish\\n', '\\nไทย\\n', 'My Account\\n', 'My Orders\\n', 'Log out ', '\\nBrand\\n', '\\nDesigner\\n', '\\nBeauty\\n\\n\\nBath & Body\\n\\n\\nBath Shower\\n\\n\\nBody Scrub\\n\\n\\nHand & Nails Care\\n\\n\\nBody Treatment\\n\\n\\n\\n\\nFragrance\\n\\n\\nWomen Fragrance\\n\\n\\nMen Fragrance\\n\\n\\nUnisex Fragrance\\n\\n\\n\\n\\nBeauty Sets\\n\\n\\nHealth Care\\n\\n\\nContact Lens\\n\\n\\nDietary Supplements\\n\\n\\nSport Recovery Equipment\\n\\n\\nSexual Wellness\\n\\n\\nFirst Aid & Medical Equipment\\n\\n\\nWeight Scales\\n\\n\\n\\n\\nMakeup\\n\\n\\nFace Makeup\\n\\n\\nLips Makeup\\n\\n\\nNails Makeup\\n\\n\\nMakeup Tools\\n\\n\\nMakeup Remover\\n\\n\\nEyes Makeup\\n\\n\\n\\n\\nHair Care\\n\\n\\nHair Styling\\n\\n\\nHair Treatment\\n\\n\\nShampoo & Conditioner\\n\\n\\n\\n\\nPersonal Care\\n\\n\\nDeodorant\\n\\n\\nWomen Deodorant\\n\\n\\nTools\\n\\n\\nOral Care\\n\\n\\nMen Deodorant\\n\\n\\nFeminine Care\\n\\n\\nAdult Diapers\\n\\n\\n\\n\\nSkincare\\n\\n\\nFacial Treatment\\n\\n\\nExfoliator & Masks\\n\\n\\nToner\\n\\n\\nCleansers\\n\\n\\nSunscreen\\n\\n\\nOil & Serum\\n\\n\\nEye Cream\\n\\n\\nMoisturiser\\n\\n\\nEssence\\n\\n\\n\\n\\nMen Essentials\\n\\n\\nMen Bath & Body\\n\\n\\nMen Hair Styling\\n\\n\\nMen Skincare\\n\\n\\nMen Shampoo & Conditioner\\n\\n\\nMen Shaving\\n\\n\\n\\n\\n', '\\nBath & Body\\n\\n\\nBath Shower\\n\\n\\nBody Scrub\\n\\n\\nHand & Nails Care\\n\\n\\nBody Treatment\\n\\n\\n', '\\nBath Shower\\n', '\\nBody Scrub\\n', '\\nHand & Nails Care\\n', '\\nBody Treatment\\n', '\\nFragrance\\n\\n\\nWomen Fragrance\\n\\n\\nMen Fragrance\\n\\n\\nUnisex Fragrance\\n\\n\\n', '\\nWomen Fragrance\\n', '\\nMen Fragrance\\n', '\\nUnisex Fragrance\\n', '\\nBeauty Sets\\n', '\\nHealth Care\\n\\n\\nContact Lens\\n\\n\\nDietary Supplements\\n\\n\\nSport Recovery Equipment\\n\\n\\nSexual Wellness\\n\\n\\nFirst Aid & Medical Equipment\\n\\n\\nWeight Scales\\n\\n\\n', '\\nContact Lens\\n', '\\nDietary Supplements\\n', '\\nSport Recovery Equipment\\n', '\\nSexual Wellness\\n', '\\nFirst Aid & Medical Equipment\\n', '\\nWeight Scales\\n', '\\nMakeup\\n\\n\\nFace Makeup\\n\\n\\nLips Makeup\\n\\n\\nNails Makeup\\n\\n\\nMakeup Tools\\n\\n\\nMakeup Remover\\n\\n\\nEyes Makeup\\n\\n\\n', '\\nFace Makeup\\n', '\\nLips Makeup\\n', '\\nNails Makeup\\n', '\\nMakeup Tools\\n', '\\nMakeup Remover\\n', '\\nEyes Makeup\\n', '\\nHair Care\\n\\n\\nHair Styling\\n\\n\\nHair Treatment\\n\\n\\nShampoo & Conditioner\\n\\n\\n', '\\nHair Styling\\n', '\\nHair Treatment\\n', '\\nShampoo & Conditioner\\n', '\\nPersonal Care\\n\\n\\nDeodorant\\n\\n\\nWomen Deodorant\\n\\n\\nTools\\n\\n\\nOral Care\\n\\n\\nMen Deodorant\\n\\n\\nFeminine Care\\n\\n\\nAdult Diapers\\n\\n\\n', '\\nDeodorant\\n', '\\nWomen Deodorant\\n', '\\nTools\\n', '\\nOral Care\\n', '\\nMen Deodorant\\n', '\\nFeminine Care\\n', '\\nAdult Diapers\\n', '\\nSkincare\\n\\n\\nFacial Treatment\\n\\n\\nExfoliator & Masks\\n\\n\\nToner\\n\\n\\nCleansers\\n\\n\\nSunscreen\\n\\n\\nOil & Serum\\n\\n\\nEye Cream\\n\\n\\nMoisturiser\\n\\n\\nEssence\\n\\n\\n', '\\nFacial Treatment\\n', '\\nExfoliator & Masks\\n', '\\nToner\\n', '\\nCleansers\\n', '\\nSunscreen\\n', '\\nOil & Serum\\n', '\\nEye Cream\\n', '\\nMoisturiser\\n', '\\nEssence\\n', '\\nMen Essentials\\n\\n\\nMen Bath & Body\\n\\n\\nMen Hair Styling\\n\\n\\nMen Skincare\\n\\n\\nMen Shampoo & Conditioner\\n\\n\\nMen Shaving\\n\\n\\n', '\\nMen Bath & Body\\n', '\\nMen Hair Styling\\n', '\\nMen Skincare\\n', '\\nMen Shampoo & Conditioner\\n', '\\nMen Shaving\\n', '\\nWomen\\n\\n\\nWomen Clothing\\n\\n\\nWomen Shorts\\n\\n\\nWomen Tops\\n\\n\\nWomen Jeans\\n\\n\\nWomen Pants\\n\\n\\nWomen Sleepwear\\n\\n\\nWomen Jackets & Coats\\n\\n\\nSkirts\\n\\n\\nDresses\\n\\n\\nWomen Jumpsuits\\n\\n\\n\\n\\nWomen Shoes\\n\\n\\nWomen Sport Shoes\\n\\n\\nWomen Slippers\\n\\n\\nWomen Shoe Accessories\\n\\n\\nWomen Loafers\\n\\n\\nWomen Flats\\n\\n\\nWomen Sandals\\n\\n\\nWomen Boots\\n\\n\\nWomen Flip-Flops\\n\\n\\nWomen Sneakers\\n\\n\\nHeels\\n\\n\\n\\n\\nLingerie\\n\\n\\nWomen Stockings\\n\\n\\nBras\\n\\n\\nBodysuit\\n\\n\\nWomen Panties\\n\\n\\nWomen Camisoles & Tanks\\n\\n\\nWomen Longjohn\\n\\n\\nWomen Lingerie Accessories\\n\\n\\nWomen Lingerie Sets\\n\\n\\nWomen Shapewear\\n\\n\\n\\n\\nWomen Sports Apparel\\n\\n\\nWomen Sports Bottoms\\n\\n\\nWomen Sports Tops\\n\\n\\nWomen Swimwear\\n\\n\\nSports Bra\\n\\n\\n\\n\\n', '\\nWomen Clothing\\n\\n\\nWomen Shorts\\n\\n\\nWomen Tops\\n\\n\\nWomen Jeans\\n\\n\\nWomen Pants\\n\\n\\nWomen Sleepwear\\n\\n\\nWomen Jackets & Coats\\n\\n\\nSkirts\\n\\n\\nDresses\\n\\n\\nWomen Jumpsuits\\n\\n\\n', '\\nWomen Shorts\\n', '\\nWomen Tops\\n', '\\nWomen Jeans\\n', '\\nWomen Pants\\n', '\\nWomen Sleepwear\\n', '\\nWomen Jackets & Coats\\n', '\\nSkirts\\n', '\\nDresses\\n', '\\nWomen Jumpsuits\\n', '\\nWomen Shoes\\n\\n\\nWomen Sport Shoes\\n\\n\\nWomen Slippers\\n\\n\\nWomen Shoe Accessories\\n\\n\\nWomen Loafers\\n\\n\\nWomen Flats\\n\\n\\nWomen Sandals\\n\\n\\nWomen Boots\\n\\n\\nWomen Flip-Flops\\n\\n\\nWomen Sneakers\\n\\n\\nHeels\\n\\n\\n', '\\nWomen Sport Shoes\\n', '\\nWomen Slippers\\n', '\\nWomen Shoe Accessories\\n', '\\nWomen Loafers\\n', '\\nWomen Flats\\n', '\\nWomen Sandals\\n', '\\nWomen Boots\\n', '\\nWomen Flip-Flops\\n', '\\nWomen Sneakers\\n', '\\nHeels\\n', '\\nLingerie\\n\\n\\nWomen Stockings\\n\\n\\nBras\\n\\n\\nBodysuit\\n\\n\\nWomen Panties\\n\\n\\nWomen Camisoles & Tanks\\n\\n\\nWomen Longjohn\\n\\n\\nWomen Lingerie Accessories\\n\\n\\nWomen Lingerie Sets\\n\\n\\nWomen Shapewear\\n\\n\\n', '\\nWomen Stockings\\n', '\\nBras\\n', '\\nBodysuit\\n', '\\nWomen Panties\\n', '\\nWomen Camisoles & Tanks\\n', '\\nWomen Longjohn\\n', '\\nWomen Lingerie Accessories\\n', '\\nWomen Lingerie Sets\\n', '\\nWomen Shapewear\\n', '\\nWomen Sports Apparel\\n\\n\\nWomen Sports Bottoms\\n\\n\\nWomen Sports Tops\\n\\n\\nWomen Swimwear\\n\\n\\nSports Bra\\n\\n\\n', '\\nWomen Sports Bottoms\\n', '\\nWomen Sports Tops\\n', '\\nWomen Swimwear\\n', '\\nSports Bra\\n', '\\nMen\\n\\n\\nMen Clothing\\n\\n\\nMen Jackets & Coats\\n\\n\\nMen Polos\\n\\n\\nMen Shorts\\n\\n\\nMen Sweaters & Sweat Shirts\\n\\n\\nMen Suits\\n\\n\\nMen Sleepwear\\n\\n\\nMen Shirts\\n\\n\\nMen Pants\\n\\n\\nMen Hoodies\\n\\n\\nMen Jeans\\n\\n\\nMen T-Shirts\\n\\n\\n\\n\\nMen Shoes\\n\\n\\nMen Loafers\\n\\n\\nMen Sandals\\n\\n\\nMen Sport Shoes\\n\\n\\nMen Flip-Flops\\n\\n\\nMen Boots\\n\\n\\nMen Sneakers\\n\\n\\nMen Shoe Accessories\\n\\n\\nMen Leather Shoes\\n\\n\\n\\n\\nMen Underwear\\n\\n\\nMen Trunks\\n\\n\\nMen Longjohn\\n\\n\\nMen Underwear Packs\\n\\n\\nMen Boxers\\n\\n\\nMen Briefs\\n\\n\\n\\n\\nMen Sports Apparel\\n\\n\\nMen Sports Bottoms\\n\\n\\nMen Swimwear\\n\\n\\nMen Sports Tops\\n\\n\\n\\n\\n', '\\nMen Clothing\\n\\n\\nMen Jackets & Coats\\n\\n\\nMen Polos\\n\\n\\nMen Shorts\\n\\n\\nMen Sweaters & Sweat Shirts\\n\\n\\nMen Suits\\n\\n\\nMen Sleepwear\\n\\n\\nMen Shirts\\n\\n\\nMen Pants\\n\\n\\nMen Hoodies\\n\\n\\nMen Jeans\\n\\n\\nMen T-Shirts\\n\\n\\n', '\\nMen Jackets & Coats\\n', '\\nMen Polos\\n', '\\nMen Shorts\\n', '\\nMen Sweaters & Sweat Shirts\\n', '\\nMen Suits\\n', '\\nMen Sleepwear\\n', '\\nMen Shirts\\n', '\\nMen Pants\\n', '\\nMen Hoodies\\n', '\\nMen Jeans\\n', '\\nMen T-Shirts\\n', '\\nMen Shoes\\n\\n\\nMen Loafers\\n\\n\\nMen Sandals\\n\\n\\nMen Sport Shoes\\n\\n\\nMen Flip-Flops\\n\\n\\nMen Boots\\n\\n\\nMen Sneakers\\n\\n\\nMen Shoe Accessories\\n\\n\\nMen Leather Shoes\\n\\n\\n', '\\nMen Loafers\\n', '\\nMen Sandals\\n', '\\nMen Sport Shoes\\n', '\\nMen Flip-Flops\\n', '\\nMen Boots\\n', '\\nMen Sneakers\\n', '\\nMen Shoe Accessories\\n', '\\nMen Leather Shoes\\n', '\\nMen Underwear\\n\\n\\nMen Trunks\\n\\n\\nMen Longjohn\\n\\n\\nMen Underwear Packs\\n\\n\\nMen Boxers\\n\\n\\nMen Briefs\\n\\n\\n', '\\nMen Trunks\\n', '\\nMen Longjohn\\n', '\\nMen Underwear Packs\\n', '\\nMen Boxers\\n', '\\nMen Briefs\\n', '\\nMen Sports Apparel\\n\\n\\nMen Sports Bottoms\\n\\n\\nMen Swimwear\\n\\n\\nMen Sports Tops\\n\\n\\n', '\\nMen Sports Bottoms\\n', '\\nMen Swimwear\\n', '\\nMen Sports Tops\\n', '\\nFashion Accessories\\n\\n\\nMen Watch\\n\\n\\nSmart Watches\\n\\n\\nFashion Watches\\n\\n\\nSwiss Made Watches\\n\\n\\nLuxury Watches\\n\\n\\nMen Watch Accessories\\n\\n\\n\\n\\nWomen Watch\\n\\n\\nFashion Watches\\n\\n\\nSmart Watches\\n\\n\\nSwiss Made Watches\\n\\n\\nWomen Watch Accessories\\n\\n\\n\\n\\nWomen Jewelry\\n\\n\\nWomen Necklaces\\n\\n\\nWomen Earrings\\n\\n\\nWomen Rings\\n\\n\\nWomen Bracelets\\n\\n\\nWomen Brooches\\n\\n\\n\\n\\nMen Eyewear & Sunglasses\\n\\n\\nMen Glasses\\n\\n\\nMen Sunglasses\\n\\n\\nMen Eyewear Accessories\\n\\n\\n\\n\\nWomen Eyewear & Sunglasses\\n\\n\\nWomen Glasses\\n\\n\\nWomen Sunglasses\\n\\n\\nWomen Eyewear Accessories\\n\\n\\n\\n\\nKids Watches\\n\\n\\nWomen Bags\\n\\n\\nWomen Tote Bags\\n\\n\\nWomen Backpacks\\n\\n\\nWomen Sport Bags\\n\\n\\nWomen Shoulder Bags\\n\\n\\nWomen Makeup Bags\\n\\n\\nWomen Purses & Wallets\\n\\n\\nWomen Handbags\\n\\n\\nWomen Clutches\\n\\n\\nWomen Duffle Bags\\n\\n\\n\\n\\nKids Eyewear & Sunglasses\\n\\n\\nKids Glasses\\n\\n\\nKids Sunglasses\\n\\n\\nKids Eyewear Accessories\\n\\n\\n\\n\\nWomen Accessories\\n\\n\\nWomen Scarves & Gloves\\n\\n\\nWomen Hats & Hair Accessories\\n\\n\\nWomen Belts\\n\\n\\nWomen Socks\\n\\n\\n\\n\\nMen Bags\\n\\n\\nMen Laptop Bags & Briefcases\\n\\n\\nMen Key Holders\\n\\n\\nMen Sport Bags\\n\\n\\nMen Card Holders\\n\\n\\nMen Duffle Bags\\n\\n\\nMen Tote Bags\\n\\n\\nMen Wallets\\n\\n\\nMen Cross Body Bags\\n\\n\\nMen Backpacks\\n\\n\\n\\n\\nKids Accessories\\n\\n\\nBoys Accessories\\n\\n\\nGirls Accessories\\n\\n\\nBabies Accessories\\n\\n\\n\\n\\nKids Bags\\n\\n\\nKids Wallets & Purses\\n\\n\\nKids Shoulder Bags\\n\\n\\nKid Sport Bags\\n\\n\\nKids Backpacks\\n\\n\\n\\n\\nMen Jewelry\\n\\n\\nMen Earrings\\n\\n\\nMen Necklaces\\n\\n\\nMen Rings\\n\\n\\nMen Bracelets\\n\\n\\n\\n\\nMen Accessories\\n\\n\\nMen Hats & Caps\\n\\n\\nMen Socks\\n\\n\\nMen Scarves & Gloves\\n\\n\\nMen Belts & Suspenders\\n\\n\\nNeckties & Bowties\\n\\n\\n\\n\\nFace Masks\\n\\n\\nFabric Masks\\n\\n\\nMedical & Surgical Masks\\n\\n\\nRespirator Masks\\n\\n\\nKids Face Masks\\n\\n\\n\\n\\n', '\\nMen Watch\\n\\n\\nSmart Watches\\n\\n\\nFashion Watches\\n\\n\\nSwiss Made Watches\\n\\n\\nLuxury Watches\\n\\n\\nMen Watch Accessories\\n\\n\\n', '\\nSmart Watches\\n', '\\nFashion Watches\\n', '\\nSwiss Made Watches\\n', '\\nLuxury Watches\\n', '\\nMen Watch Accessories\\n', '\\nWomen Watch\\n\\n\\nFashion Watches\\n\\n\\nSmart Watches\\n\\n\\nSwiss Made Watches\\n\\n\\nWomen Watch Accessories\\n\\n\\n', '\\nFashion Watches\\n', '\\nSmart Watches\\n', '\\nSwiss Made Watches\\n', '\\nWomen Watch Accessories\\n', '\\nWomen Jewelry\\n\\n\\nWomen Necklaces\\n\\n\\nWomen Earrings\\n\\n\\nWomen Rings\\n\\n\\nWomen Bracelets\\n\\n\\nWomen Brooches\\n\\n\\n', '\\nWomen Necklaces\\n', '\\nWomen Earrings\\n', '\\nWomen Rings\\n', '\\nWomen Bracelets\\n', '\\nWomen Brooches\\n', '\\nMen Eyewear & Sunglasses\\n\\n\\nMen Glasses\\n\\n\\nMen Sunglasses\\n\\n\\nMen Eyewear Accessories\\n\\n\\n', '\\nMen Glasses\\n', '\\nMen Sunglasses\\n', '\\nMen Eyewear Accessories\\n', '\\nWomen Eyewear & Sunglasses\\n\\n\\nWomen Glasses\\n\\n\\nWomen Sunglasses\\n\\n\\nWomen Eyewear Accessories\\n\\n\\n', '\\nWomen Glasses\\n', '\\nWomen Sunglasses\\n', '\\nWomen Eyewear Accessories\\n', '\\nKids Watches\\n', '\\nWomen Bags\\n\\n\\nWomen Tote Bags\\n\\n\\nWomen Backpacks\\n\\n\\nWomen Sport Bags\\n\\n\\nWomen Shoulder Bags\\n\\n\\nWomen Makeup Bags\\n\\n\\nWomen Purses & Wallets\\n\\n\\nWomen Handbags\\n\\n\\nWomen Clutches\\n\\n\\nWomen Duffle Bags\\n\\n\\n', '\\nWomen Tote Bags\\n', '\\nWomen Backpacks\\n', '\\nWomen Sport Bags\\n', '\\nWomen Shoulder Bags\\n', '\\nWomen Makeup Bags\\n', '\\nWomen Purses & Wallets\\n', '\\nWomen Handbags\\n', '\\nWomen Clutches\\n', '\\nWomen Duffle Bags\\n', '\\nKids Eyewear & Sunglasses\\n\\n\\nKids Glasses\\n\\n\\nKids Sunglasses\\n\\n\\nKids Eyewear Accessories\\n\\n\\n', '\\nKids Glasses\\n', '\\nKids Sunglasses\\n', '\\nKids Eyewear Accessories\\n', '\\nWomen Accessories\\n\\n\\nWomen Scarves & Gloves\\n\\n\\nWomen Hats & Hair Accessories\\n\\n\\nWomen Belts\\n\\n\\nWomen Socks\\n\\n\\n', '\\nWomen Scarves & Gloves\\n', '\\nWomen Hats & Hair Accessories\\n', '\\nWomen Belts\\n', '\\nWomen Socks\\n', '\\nMen Bags\\n\\n\\nMen Laptop Bags & Briefcases\\n\\n\\nMen Key Holders\\n\\n\\nMen Sport Bags\\n\\n\\nMen Card Holders\\n\\n\\nMen Duffle Bags\\n\\n\\nMen Tote Bags\\n\\n\\nMen Wallets\\n\\n\\nMen Cross Body Bags\\n\\n\\nMen Backpacks\\n\\n\\n', '\\nMen Laptop Bags & Briefcases\\n', '\\nMen Key Holders\\n', '\\nMen Sport Bags\\n', '\\nMen Card Holders\\n', '\\nMen Duffle Bags\\n', '\\nMen Tote Bags\\n', '\\nMen Wallets\\n', '\\nMen Cross Body Bags\\n', '\\nMen Backpacks\\n', '\\nKids Accessories\\n\\n\\nBoys Accessories\\n\\n\\nGirls Accessories\\n\\n\\nBabies Accessories\\n\\n\\n', '\\nBoys Accessories\\n', '\\nGirls Accessories\\n', '\\nBabies Accessories\\n', '\\nKids Bags\\n\\n\\nKids Wallets & Purses\\n\\n\\nKids Shoulder Bags\\n\\n\\nKid Sport Bags\\n\\n\\nKids Backpacks\\n\\n\\n', '\\nKids Wallets & Purses\\n', '\\nKids Shoulder Bags\\n', '\\nKid Sport Bags\\n', '\\nKids Backpacks\\n', '\\nMen Jewelry\\n\\n\\nMen Earrings\\n\\n\\nMen Necklaces\\n\\n\\nMen Rings\\n\\n\\nMen Bracelets\\n\\n\\n', '\\nMen Earrings\\n', '\\nMen Necklaces\\n', '\\nMen Rings\\n', '\\nMen Bracelets\\n', '\\nMen Accessories\\n\\n\\nMen Hats & Caps\\n\\n\\nMen Socks\\n\\n\\nMen Scarves & Gloves\\n\\n\\nMen Belts & Suspenders\\n\\n\\nNeckties & Bowties\\n\\n\\n', '\\nMen Hats & Caps\\n', '\\nMen Socks\\n', '\\nMen Scarves & Gloves\\n', '\\nMen Belts & Suspenders\\n', '\\nNeckties & Bowties\\n', '\\nFace Masks\\n\\n\\nFabric Masks\\n\\n\\nMedical & Surgical Masks\\n\\n\\nRespirator Masks\\n\\n\\nKids Face Masks\\n\\n\\n', '\\nFabric Masks\\n', '\\nMedical & Surgical Masks\\n', '\\nRespirator Masks\\n', '\\nKids Face Masks\\n', '\\nMom & Kids\\n\\n\\nKids Shoes\\n\\n\\nGirls Shoes\\n\\n\\nBaby-Infant-Toddlers Shoes\\n\\n\\nBoys Shoes\\n\\n\\n\\n\\nToys\\n\\n\\nStuffed Toys\\n\\n\\nKid Block Toys\\n\\n\\nKid Games Puzzles & Learning\\n\\n\\nDolls\\n\\n\\nToy Vehicle & Tools Construction\\n\\n\\nRole Play Toy\\n\\n\\nKid Board Games\\n\\n\\nToys Ride On\\n\\n\\nToddler & Infant Toys\\n\\n\\nToy Figures\\n\\n\\nKid Arts & Crafts\\n\\n\\n\\n\\nKids Clothing\\n\\n\\nBoys Clothing\\n\\n\\nBaby Clothing\\n\\n\\nGirls Clothing\\n\\n\\n\\n\\nMaternity Clothing\\n\\n\\nMaternity Lingeries\\n\\n\\nMaternity Swimwear\\n\\n\\nMaternity Tops\\n\\n\\nMaternity Bottoms\\n\\n\\nMaternity Dresses\\n\\n\\n\\n\\nKids Sports Apparel\\n\\n\\nBoys Sports Apparel\\n\\n\\nGirls Sports Apparel\\n\\n\\n\\n\\nBaby Sleeping\\n\\n\\nBaby Pillow & Blankets\\n\\n\\nBaby Mattresses, Beds & Protector Sheets\\n\\n\\nCradles\\n\\n\\n\\n\\nBaby Hygiene\\n\\n\\nBaby Soaps, Cleansers & Bodywash\\n\\n\\nBathing Toiletries\\n\\n\\nPotty Seats\\n\\n\\nBaby Wipes\\n\\n\\nBaby Diapers\\n\\n\\nBaby Detergents\\n\\n\\nBaby Skincare\\n\\n\\nBath Tubs\\n\\n\\nBaby Shampoo & Conditioner\\n\\n\\n\\n\\nBaby Feeding\\n\\n\\nBaby Bibs\\n\\n\\nBottles & Pacifiers\\n\\n\\nBaby High Chairs\\n\\n\\nWeaning & Baby Utensils\\n\\n\\nBottle Warmers & Sterilizers\\n\\n\\nMilk Formula & Baby Foods\\n\\n\\nBreast Pumps\\n\\n\\n\\n\\nBaby Gear\\n\\n\\nWalkers\\n\\n\\nBaby Carriers\\n\\n\\nBaby Accessories\\n\\n\\nPrams & Baby Strollers\\n\\n\\nPlay Mats & Playpens\\n\\n\\nBaby Swings, Jumpers & Bouncers\\n\\n\\nCar Seats & Booster Seats\\n\\n\\n\\n\\n', '\\nKids Shoes\\n\\n\\nGirls Shoes\\n\\n\\nBaby-Infant-Toddlers Shoes\\n\\n\\nBoys Shoes\\n\\n\\n', '\\nGirls Shoes\\n', '\\nBaby-Infant-Toddlers Shoes\\n', '\\nBoys Shoes\\n', '\\nToys\\n\\n\\nStuffed Toys\\n\\n\\nKid Block Toys\\n\\n\\nKid Games Puzzles & Learning\\n\\n\\nDolls\\n\\n\\nToy Vehicle & Tools Construction\\n\\n\\nRole Play Toy\\n\\n\\nKid Board Games\\n\\n\\nToys Ride On\\n\\n\\nToddler & Infant Toys\\n\\n\\nToy Figures\\n\\n\\nKid Arts & Crafts\\n\\n\\n', '\\nStuffed Toys\\n', '\\nKid Block Toys\\n', '\\nKid Games Puzzles & Learning\\n', '\\nDolls\\n', '\\nToy Vehicle & Tools Construction\\n', '\\nRole Play Toy\\n', '\\nKid Board Games\\n', '\\nToys Ride On\\n', '\\nToddler & Infant Toys\\n', '\\nToy Figures\\n', '\\nKid Arts & Crafts\\n', '\\nKids Clothing\\n\\n\\nBoys Clothing\\n\\n\\nBaby Clothing\\n\\n\\nGirls Clothing\\n\\n\\n', '\\nBoys Clothing\\n', '\\nBaby Clothing\\n', '\\nGirls Clothing\\n', '\\nMaternity Clothing\\n\\n\\nMaternity Lingeries\\n\\n\\nMaternity Swimwear\\n\\n\\nMaternity Tops\\n\\n\\nMaternity Bottoms\\n\\n\\nMaternity Dresses\\n\\n\\n', '\\nMaternity Lingeries\\n', '\\nMaternity Swimwear\\n', '\\nMaternity Tops\\n', '\\nMaternity Bottoms\\n', '\\nMaternity Dresses\\n', '\\nKids Sports Apparel\\n\\n\\nBoys Sports Apparel\\n\\n\\nGirls Sports Apparel\\n\\n\\n', '\\nBoys Sports Apparel\\n', '\\nGirls Sports Apparel\\n', '\\nBaby Sleeping\\n\\n\\nBaby Pillow & Blankets\\n\\n\\nBaby Mattresses, Beds & Protector Sheets\\n\\n\\nCradles\\n\\n\\n', '\\nBaby Pillow & Blankets\\n', '\\nBaby Mattresses, Beds & Protector Sheets\\n', '\\nCradles\\n', '\\nBaby Hygiene\\n\\n\\nBaby Soaps, Cleansers & Bodywash\\n\\n\\nBathing Toiletries\\n\\n\\nPotty Seats\\n\\n\\nBaby Wipes\\n\\n\\nBaby Diapers\\n\\n\\nBaby Detergents\\n\\n\\nBaby Skincare\\n\\n\\nBath Tubs\\n\\n\\nBaby Shampoo & Conditioner\\n\\n\\n', '\\nBaby Soaps, Cleansers & Bodywash\\n', '\\nBathing Toiletries\\n', '\\nPotty Seats\\n', '\\nBaby Wipes\\n', '\\nBaby Diapers\\n', '\\nBaby Detergents\\n', '\\nBaby Skincare\\n', '\\nBath Tubs\\n', '\\nBaby Shampoo & Conditioner\\n', '\\nBaby Feeding\\n\\n\\nBaby Bibs\\n\\n\\nBottles & Pacifiers\\n\\n\\nBaby High Chairs\\n\\n\\nWeaning & Baby Utensils\\n\\n\\nBottle Warmers & Sterilizers\\n\\n\\nMilk Formula & Baby Foods\\n\\n\\nBreast Pumps\\n\\n\\n', '\\nBaby Bibs\\n', '\\nBottles & Pacifiers\\n', '\\nBaby High Chairs\\n', '\\nWeaning & Baby Utensils\\n', '\\nBottle Warmers & Sterilizers\\n', '\\nMilk Formula & Baby Foods\\n', '\\nBreast Pumps\\n', '\\nBaby Gear\\n\\n\\nWalkers\\n\\n\\nBaby Carriers\\n\\n\\nBaby Accessories\\n\\n\\nPrams & Baby Strollers\\n\\n\\nPlay Mats & Playpens\\n\\n\\nBaby Swings, Jumpers & Bouncers\\n\\n\\nCar Seats & Booster Seats\\n\\n\\n', '\\nWalkers\\n', '\\nBaby Carriers\\n', '\\nBaby Accessories\\n', '\\nPrams & Baby Strollers\\n', '\\nPlay Mats & Playpens\\n', '\\nBaby Swings, Jumpers & Bouncers\\n', '\\nCar Seats & Booster Seats\\n', '\\nHome & Lifestyle\\n\\n\\nBathing\\n\\n\\nLaundry Equipment\\n\\n\\nOutdoor & Garden\\n\\n\\nStorage & Organisers\\n\\n\\nHome Decoration\\n\\n\\nGrocery\\n\\n\\nFurniture\\n\\n\\nTools & Home Improvements\\n\\n\\nOffice Supplies & Stationery\\n\\n\\nPet Supplies\\n\\n\\nCooking & Dining\\n\\n\\nCleaning Equipment & Supplies\\n\\n\\nBooks, Movies & Music\\n\\n\\nAuto Supplies\\n\\n\\nBedding\\n\\n\\nElderly Care\\n\\n\\n', '\\nBathing\\n', '\\nLaundry Equipment\\n', '\\nOutdoor & Garden\\n', '\\nStorage & Organisers\\n', '\\nHome Decoration\\n', '\\nGrocery\\n', '\\nFurniture\\n', '\\nTools & Home Improvements\\n', '\\nOffice Supplies & Stationery\\n', '\\nPet Supplies\\n', '\\nCooking & Dining\\n', '\\nCleaning Equipment & Supplies\\n', '\\nBooks, Movies & Music\\n', '\\nAuto Supplies\\n', '\\nBedding\\n', '\\nElderly Care\\n', '\\nHome Appliances\\n\\n\\nTV & Entertainment\\n\\n\\nSmart Home & Security\\n\\n\\nGarment Appliances\\n\\n\\nFans & Air Purifiers\\n\\n\\nLarge Appliances\\n\\n\\nCooking Appliances\\n\\n\\nHome Accessories\\n\\n\\nVacuum Cleaners\\n\\n\\nWater Appliances\\n\\n\\nPersonal Care Appliances\\n\\n\\n', '\\nTV & Entertainment\\n', '\\nSmart Home & Security\\n', '\\nGarment Appliances\\n', '\\nFans & Air Purifiers\\n', '\\nLarge Appliances\\n', '\\nCooking Appliances\\n', '\\nHome Accessories\\n', '\\nVacuum Cleaners\\n', '\\nWater Appliances\\n', '\\nPersonal Care Appliances\\n', '\\nElectronic & Gadgets\\n\\n\\nCameras & Drones\\n\\n\\nDrones\\n\\n\\nCamera Accessories\\n\\n\\nInstant & Film Cameras\\n\\n\\nMirrorless Cameras\\n\\n\\nCar Cameras\\n\\n\\nAction Cameras\\n\\n\\nCompact Cameras\\n\\n\\nDSLR Cameras\\n\\n\\n\\n\\nHeadphones & Speakers\\n\\n\\nHeadphones\\n\\n\\nSpeakers\\n\\n\\nMicrophones\\n\\n\\nAudio Accessories\\n\\n\\n\\n\\nComputers\\n\\n\\nMouses\\n\\n\\nLaptops\\n\\n\\nStorage & Memory Cards\\n\\n\\nKeyboards\\n\\n\\nPrinters & Scanners\\n\\n\\nProjectors\\n\\n\\nComputer Accessories\\n\\n\\nComputer Component\\n\\n\\nMonitors\\n\\n\\nWebcams\\n\\n\\nPC Games & Softwares\\n\\n\\nDesktop PC\\n\\n\\n\\n\\nConsole Gaming\\n\\n\\nConsoles\\n\\n\\nControllers\\n\\n\\nConsole Accessories\\n\\n\\nHandheld Gaming Consoles\\n\\n\\nConsole Games\\n\\n\\n\\n\\nMobiles & Tablets\\n\\n\\nMobile & Tablets Accessories\\n\\n\\nLandline Phones & Faxes\\n\\n\\nTablets\\n\\n\\nMobile\\n\\n\\n\\n\\nWearable Gadgets\\n\\n\\nVR Gears\\n\\n\\nSmartwatches\\n\\n\\nFitness Tracker\\n\\n\\nSmart Watches\\n\\n\\nSmart Watch Accessories\\n\\n\\n\\n\\n', '\\nCameras & Drones\\n\\n\\nDrones\\n\\n\\nCamera Accessories\\n\\n\\nInstant & Film Cameras\\n\\n\\nMirrorless Cameras\\n\\n\\nCar Cameras\\n\\n\\nAction Cameras\\n\\n\\nCompact Cameras\\n\\n\\nDSLR Cameras\\n\\n\\n', '\\nDrones\\n', '\\nCamera Accessories\\n', '\\nInstant & Film Cameras\\n', '\\nMirrorless Cameras\\n', '\\nCar Cameras\\n', '\\nAction Cameras\\n', '\\nCompact Cameras\\n', '\\nDSLR Cameras\\n', '\\nHeadphones & Speakers\\n\\n\\nHeadphones\\n\\n\\nSpeakers\\n\\n\\nMicrophones\\n\\n\\nAudio Accessories\\n\\n\\n', '\\nHeadphones\\n', '\\nSpeakers\\n', '\\nMicrophones\\n', '\\nAudio Accessories\\n', '\\nComputers\\n\\n\\nMouses\\n\\n\\nLaptops\\n\\n\\nStorage & Memory Cards\\n\\n\\nKeyboards\\n\\n\\nPrinters & Scanners\\n\\n\\nProjectors\\n\\n\\nComputer Accessories\\n\\n\\nComputer Component\\n\\n\\nMonitors\\n\\n\\nWebcams\\n\\n\\nPC Games & Softwares\\n\\n\\nDesktop PC\\n\\n\\n', '\\nMouses\\n', '\\nLaptops\\n', '\\nStorage & Memory Cards\\n', '\\nKeyboards\\n', '\\nPrinters & Scanners\\n', '\\nProjectors\\n', '\\nComputer Accessories\\n', '\\nComputer Component\\n', '\\nMonitors\\n', '\\nWebcams\\n', '\\nPC Games & Softwares\\n', '\\nDesktop PC\\n', '\\nConsole Gaming\\n\\n\\nConsoles\\n\\n\\nControllers\\n\\n\\nConsole Accessories\\n\\n\\nHandheld Gaming Consoles\\n\\n\\nConsole Games\\n\\n\\n', '\\nConsoles\\n', '\\nControllers\\n', '\\nConsole Accessories\\n', '\\nHandheld Gaming Consoles\\n', '\\nConsole Games\\n', '\\nMobiles & Tablets\\n\\n\\nMobile & Tablets Accessories\\n\\n\\nLandline Phones & Faxes\\n\\n\\nTablets\\n\\n\\nMobile\\n\\n\\n', '\\nMobile & Tablets Accessories\\n', '\\nLandline Phones & Faxes\\n', '\\nTablets\\n', '\\nMobile\\n', '\\nWearable Gadgets\\n\\n\\nVR Gears\\n\\n\\nSmartwatches\\n\\n\\nFitness Tracker\\n\\n\\nSmart Watches\\n\\n\\nSmart Watch Accessories\\n\\n\\n', '\\nVR Gears\\n', '\\nSmartwatches\\n', '\\nFitness Tracker\\n', '\\nSmart Watches\\n', '\\nSmart Watch Accessories\\n', '\\nSports & Travel\\n\\n\\nExercise & Fitness\\n\\n\\nYoga Equipment\\n\\n\\nTreadmills & Ellipticals\\n\\n\\nWeight Training Equipment\\n\\n\\nOther Exercise & Fitness Equipment\\n\\n\\nBoxing\\n\\n\\nExercise & Fitness Accessories\\n\\n\\nSpinbikes\\n\\n\\n\\n\\nTeam Sports\\n\\n\\nVolleyball\\n\\n\\nFootball & Futsal\\n\\n\\nBasketball\\n\\n\\nSepak Takraw\\n\\n\\nOther Team Sports\\n\\n\\n\\n\\nTravel\\n\\n\\nTravel Accessories\\n\\n\\nLuggages\\n\\n\\n\\n\\nOutdoor & Recreation\\n\\n\\nCamping Equipment\\n\\n\\nFishing\\n\\n\\nCycling\\n\\n\\nGolf\\n\\n\\nSkates, Skate Boards & Scooters\\n\\n\\n\\n\\nSwimming\\n\\n\\nSwimming Caps\\n\\n\\nDiving & Snorkeling Equipment\\n\\n\\nSwimming Inflatables\\n\\n\\nOthers Swimming\\n\\n\\nGoggles\\n\\n\\n\\n\\nRacket Sports\\n\\n\\nTable Tennis\\n\\n\\nBadminton\\n\\n\\nTennis\\n\\n\\n\\n\\n', '\\nExercise & Fitness\\n\\n\\nYoga Equipment\\n\\n\\nTreadmills & Ellipticals\\n\\n\\nWeight Training Equipment\\n\\n\\nOther Exercise & Fitness Equipment\\n\\n\\nBoxing\\n\\n\\nExercise & Fitness Accessories\\n\\n\\nSpinbikes\\n\\n\\n', '\\nYoga Equipment\\n', '\\nTreadmills & Ellipticals\\n', '\\nWeight Training Equipment\\n', '\\nOther Exercise & Fitness Equipment\\n', '\\nBoxing\\n', '\\nExercise & Fitness Accessories\\n', '\\nSpinbikes\\n', '\\nTeam Sports\\n\\n\\nVolleyball\\n\\n\\nFootball & Futsal\\n\\n\\nBasketball\\n\\n\\nSepak Takraw\\n\\n\\nOther Team Sports\\n\\n\\n', '\\nVolleyball\\n', '\\nFootball & Futsal\\n', '\\nBasketball\\n', '\\nSepak Takraw\\n', '\\nOther Team Sports\\n', '\\nTravel\\n\\n\\nTravel Accessories\\n\\n\\nLuggages\\n\\n\\n', '\\nTravel Accessories\\n', '\\nLuggages\\n', '\\nOutdoor & Recreation\\n\\n\\nCamping Equipment\\n\\n\\nFishing\\n\\n\\nCycling\\n\\n\\nGolf\\n\\n\\nSkates, Skate Boards & Scooters\\n\\n\\n', '\\nCamping Equipment\\n', '\\nFishing\\n', '\\nCycling\\n', '\\nGolf\\n', '\\nSkates, Skate Boards & Scooters\\n', '\\nSwimming\\n\\n\\nSwimming Caps\\n\\n\\nDiving & Snorkeling Equipment\\n\\n\\nSwimming Inflatables\\n\\n\\nOthers Swimming\\n\\n\\nGoggles\\n\\n\\n', '\\nSwimming Caps\\n', '\\nDiving & Snorkeling Equipment\\n', '\\nSwimming Inflatables\\n', '\\nOthers Swimming\\n', '\\nGoggles\\n', '\\nRacket Sports\\n\\n\\nTable Tennis\\n\\n\\nBadminton\\n\\n\\nTennis\\n\\n\\n', '\\nTable Tennis\\n', '\\nBadminton\\n', '\\nTennis\\n', '\\nSale\\n', 'Information & Help', '\\nTrack your orders\\n', '\\nFind a store\\n', \"\\nBRAND\\n                            \\n                                \\n\\n\\n\\n\\n\\n\\n\\n\\n\\nBRANDS\\nBEAUTY\\nMEN\\nWOMEN\\nMOMANDKIDS\\nHOME\\nELECTRONICS\\nSPORTS\\n\\n\\n\\n\\n\\n\\n\\n\\nCHANEL\\n\\n\\nYSL BEAUTY\\n\\n\\nELECTROLUX\\n\\n\\nELLE\\n\\n\\nHUGGIES\\n\\n\\nKITCHENAID\\n\\n\\nCOACH\\n\\n\\nTOM FORD BEAUTY\\n\\n\\nLEVI'S\\n\\n\\nPOLO RALPH LAUREN\\n\\n\\nLACOSTE\\n\\n\\n\\n\\n\\n\\nLA MER\\n\\n\\nKIEHL'S\\n\\n\\nESTĒE LAUDER\\n\\n\\nGIORGIO ARMANI\\n\\n\\nCLARINS\\n\\n\\nTANITA\\n\\n\\nTOMMY HILFIGER\\n\\n\\nMLB\\n\\n\\nCALVIN KLEIN\\n\\n\\nCAMERA\\n\\n\\nCOMBI\\n\\n\\n\\n\\n\\n\\nLEGO\\n\\n\\nPHILIPS AVENT\\n\\n\\nDYSON\\n\\n\\nPHILIPS\\n\\n\\nTEFAL\\n\\n\\nDELONGHI\\n\\n\\nCAGGIONI\\n\\n\\nSAMSONITE\\n\\n\\nGARMIN\\n\\n\\nFITBIT\\n\\n\\nSandro\\n\\n\\n\\n\\n\\n\\n\\n\\n\\n\\n\\n\\nCHANEL\\n\\n\\nKIEHL'S\\n\\n\\nESTĒE LAUDER\\n\\n\\nLA MER\\n\\n\\nSHISEIDO\\n\\n\\nLANCÔME\\n\\n\\nSK-II\\n\\n\\nJO MALONE LONDON\\n\\n\\nBOBBI BROWN\\n\\n\\nCLARINS\\n\\n\\nTHE HISTORY OF WHOO\\n\\n\\n\\n\\n\\n\\nDIOR\\n\\n\\nTOM FORD BEAUTY\\n\\n\\nGIORGIO ARMANI\\n\\n\\nYSL BEAUTY\\n\\n\\nCHARLOTTE TILBURY\\n\\n\\nAUGUSTINUS BADER\\n\\n\\nBIOTHERM\\n\\n\\nCLINIQUE\\n\\n\\nKERASTASE\\n\\n\\nCLÉ DE PEAU BEAUTÉ\\n\\n\\nSULWHASOO\\n\\n\\n\\n\\n\\n\\nHERMÈS\\n\\n\\nDIPTYQUE\\n\\n\\nLA PRAIRIE\\n\\n\\nHOURGLASS\\n\\n\\nGUCCI BEAUTY\\n\\n\\nCREED\\n\\n\\nGIVENCHY\\n\\n\\nGUERLAIN\\n\\n\\nNARS\\n\\n\\nIPSA\\n\\n\\nELEMIS\\n\\n\\n\\n\\n\\n\\n\\n\\n\\n\\n\\n\\nMLB\\n\\n\\nCALVIN KLEIN\\n\\n\\nTOMMY HILFIGER\\n\\n\\nLEVI'S\\n\\n\\nLEE\\n\\n\\nWRANGLER\\n\\n\\nEVISU\\n\\n\\nARMANI EXCHANGE\\n\\n\\nG-SHOCK\\n\\n\\nD1 MILANO\\n\\n\\nTISSOT\\n\\n\\n\\n\\n\\n\\nLACOSTE\\n\\n\\nBOSS\\n\\n\\nDAPPER\\n\\n\\nJOHN HENRY\\n\\n\\nJOCKEY\\n\\n\\nGQ\\n\\n\\nPIERRE CARDIN\\n\\n\\nHUSH PUPPIES\\n\\n\\nMIDO\\n\\n\\nLONGINES\\n\\n\\nFREDERIQUE CONSTANT\\n\\n\\n\\n\\n\\n\\nNIKE\\n\\n\\nADIDAS\\n\\n\\nCONVERSE\\n\\n\\nVANS\\n\\n\\nKEEN\\n\\n\\nSKECHERS\\n\\n\\nBIRKENSTOCK\\n\\n\\nRAY-BAN\\n\\n\\nSEIKO\\n\\n\\nEMPORIO ARMANI\\n\\n\\nDANIEL WELLINGTON\\n\\n\\n\\n\\n\\n\\n\\n\\n\\n\\n\\n\\nARMANI EXCHANGE\\n\\n\\nBABY-G\\n\\n\\nBALLY\\n\\n\\nCATH KIDSTON\\n\\n\\nCOACH\\n\\n\\nCOCCINELLE\\n\\n\\nEXPRESSION\\n\\n\\nFITFLOP\\n\\n\\nFOF\\n\\n\\nG2000\\n\\n\\nGUESS\\n\\n\\n\\n\\n\\n\\nJUBILEE DAIMOND\\n\\n\\nKARL LAGERFELD\\n\\n\\nKATE SPADE NEW YORK\\n\\n\\nKENNETH COLE\\n\\n\\nKIPLING\\n\\n\\nKLOSET\\n\\n\\nMARC JACOB\\n\\n\\nMARIMEKKO\\n\\n\\nMARKS & SPENCER\\n\\n\\nMELISSA\\n\\n\\nPANDORA\\n\\n\\n\\n\\n\\n\\nPOLO RALPH LAUREN\\n\\n\\nPRIMA\\n\\n\\nSABINA\\n\\n\\nSFERA\\n\\n\\nSHU\\n\\n\\nSPORTY & RICH\\n\\n\\nSTACCATO\\n\\n\\nTRIUMPH\\n\\n\\nURBAN REVIVO\\n\\n\\nWACOAL\\n\\n\\nYACCO MARICARD\\n\\n\\n\\n\\n\\n\\n\\n\\n\\n\\n\\n\\nANGEL BABY\\n\\n\\nANGEL KIDS\\n\\n\\nATTITUDE MOM\\n\\n\\nAUKA\\n\\n\\nBaby Einstein\\n\\n\\nBABY MOBY\\n\\n\\nBARBIE\\n\\n\\nBeaba\\n\\n\\nBRIGHT STARS\\n\\n\\nCAMERA\\n\\n\\nCHICCO\\n\\n\\n\\n\\n\\n\\nCOMBI\\n\\n\\nEnfant\\n\\n\\nFOF KIDS\\n\\n\\nGadeaux Kids\\n\\n\\nGLOWY STAR\\n\\n\\nGraco\\n\\n\\nHotwheel\\n\\n\\nHUGGIES\\n\\n\\nJOIE\\n\\n\\nLAMOON\\n\\n\\nLEE KIDS\\n\\n\\n\\n\\n\\n\\nLEGO\\n\\n\\nLUXURY BABY\\n\\n\\nOONEW\\n\\n\\nPaw Patrol\\n\\n\\nPIGEON\\n\\n\\nPlaygoandplaygrond\\n\\n\\nPlaymobil\\n\\n\\nPureen\\n\\n\\nSANRIO\\n\\n\\nSKIP HOP\\n\\n\\nWisher Toy\\n\\n\\n\\n\\n\\n\\n\\n\\n\\n\\n\\n\\nAMERICAN TOURISTER\\n\\n\\nBOSCH\\n\\n\\nBRAUN\\n\\n\\nELECTROLUX\\n\\n\\nELLE\\n\\n\\nZOJIRUSHI\\n\\n\\nKENWOOD\\n\\n\\nKITCHENAID\\n\\n\\nLEGEND WALKER\\n\\n\\nLocknLock\\n\\n\\nLOTUS\\n\\n\\n\\n\\n\\n\\nLUCARIS\\n\\n\\nWMF\\n\\n\\nMEYER\\n\\n\\nTOSHIBA\\n\\n\\nPANASONIC\\n\\n\\nPOLO TRAVEL CLUB\\n\\n\\nREMINGTON\\n\\n\\nBLUEAIR\\n\\n\\nJoseph Joseph\\n\\n\\nTANITA\\n\\n\\nDYSON\\n\\n\\n\\n\\n\\n\\nPHILIPS\\n\\n\\nTEFAL\\n\\n\\nDELONGHI\\n\\n\\nPASAYA\\n\\n\\nKRUPS\\n\\n\\nCAGGIONI\\n\\n\\nSAMSONITE\\n\\n\\nGIOGRACIA POLO CLUB\\n\\n\\nESQUIRE\\n\\n\\nNESPRESSO\\n\\n\\nNU COVER\\n\\n\\n\\n\\n\\n\\n\\n\\n\\n\\n\\n\\nB&O PLAY\\n\\n\\nJMF PROPLUS\\n\\n\\nLUCIEN\\n\\n\\nNOKIA\\n\\n\\nUB Tech\\n\\n\\nZACE\\n\\n\\nULTIMATE EARS\\n\\n\\nTA ROBOT\\n\\n\\nNONDA\\n\\n\\nNANOLEAF\\n\\n\\nMOPHIE\\n\\n\\n\\n\\n\\n\\nJAYBIRD\\n\\n\\nIFROGZ\\n\\n\\nFRESHN REBEL\\n\\n\\nELGATO\\n\\n\\nELEMENT CASE\\n\\n\\nCOLOUD\\n\\n\\nBRAGI\\n\\n\\nBEZALEL\\n\\n\\nRHA\\n\\n\\nSKULLCANDY\\n\\n\\nPHILIPS\\n\\n\\n\\n\\n\\n\\nGARMIN\\n\\n\\nFITBIT\\n\\n\\nSUUNTO\\n\\n\\nGOPRO\\n\\n\\nMARSHALL\\n\\n\\nB&O\\n\\n\\nAFTERSHOKZ\\n\\n\\nSPHERO\\n\\n\\nPLANTRONICS\\n\\n\\nBELKIN\\n\\n\\nNATIVE UNION\\n\\n\\n\\n\\n\\n\\n\\n\\n\\n\\n\\n\\n360FITNESS\\n\\n\\nDEUTER\\n\\n\\nEAGLE CREEK\\n\\n\\nFOOTJOY\\n\\n\\nJASON\\n\\n\\nKARANA\\n\\n\\nKELA SPORT\\n\\n\\nYORK\\n\\n\\nK-SWISS\\n\\n\\nLFC\\n\\n\\nLORNA JANE\\n\\n\\n\\n\\n\\n\\nMOLTEN\\n\\n\\nNEW BALANCE\\n\\n\\nUNDER ARMOUR\\n\\n\\nPAN\\n\\n\\nTITLEIST\\n\\n\\nTIGER\\n\\n\\nTHE NORTH FACE\\n\\n\\nSWANS\\n\\n\\nREEBOK\\n\\n\\nSALOMON\\n\\n\\nSPEEDO\\n\\n\\n\\n\\n\\n\\nSKECHERS\\n\\n\\nNIKE\\n\\n\\nADIDAS\\n\\n\\nCROCS\\n\\n\\nUMBRO\\n\\n\\nFILA\\n\\n\\nWILSON\\n\\n\\n\\n\\n\\n\\n\\n\\n\\n\\n\\n\\n\", '\\nCHANEL\\n', '\\nYSL BEAUTY\\n', '\\nELECTROLUX\\n', '\\nELLE\\n', '\\nHUGGIES\\n', '\\nKITCHENAID\\n', '\\nCOACH\\n', '\\nTOM FORD BEAUTY\\n', \"\\nLEVI'S\\n\", '\\nPOLO RALPH LAUREN\\n', '\\nLACOSTE\\n', '\\nLA MER\\n', \"\\nKIEHL'S\\n\", '\\nESTĒE LAUDER\\n', '\\nGIORGIO ARMANI\\n', '\\nCLARINS\\n', '\\nTANITA\\n', '\\nTOMMY HILFIGER\\n', '\\nMLB\\n', '\\nCALVIN KLEIN\\n', '\\nCAMERA\\n', '\\nCOMBI\\n', '\\nLEGO\\n', '\\nPHILIPS AVENT\\n', '\\nDYSON\\n', '\\nPHILIPS\\n', '\\nTEFAL\\n', '\\nDELONGHI\\n', '\\nCAGGIONI\\n', '\\nSAMSONITE\\n', '\\nGARMIN\\n', '\\nFITBIT\\n', '\\nSandro\\n', '\\nCHANEL\\n', \"\\nKIEHL'S\\n\", '\\nESTĒE LAUDER\\n', '\\nLA MER\\n', '\\nSHISEIDO\\n', '\\nLANCÔME\\n', '\\nSK-II\\n', '\\nJO MALONE LONDON\\n', '\\nBOBBI BROWN\\n', '\\nCLARINS\\n', '\\nTHE HISTORY OF WHOO\\n', '\\nDIOR\\n', '\\nTOM FORD BEAUTY\\n', '\\nGIORGIO ARMANI\\n', '\\nYSL BEAUTY\\n', '\\nCHARLOTTE TILBURY\\n', '\\nAUGUSTINUS BADER\\n', '\\nBIOTHERM\\n', '\\nCLINIQUE\\n', '\\nKERASTASE\\n', '\\nCLÉ DE PEAU BEAUTÉ\\n', '\\nSULWHASOO\\n', '\\nHERMÈS\\n', '\\nDIPTYQUE\\n', '\\nLA PRAIRIE\\n', '\\nHOURGLASS\\n', '\\nGUCCI BEAUTY\\n', '\\nCREED\\n', '\\nGIVENCHY\\n', '\\nGUERLAIN\\n', '\\nNARS\\n', '\\nIPSA\\n', '\\nELEMIS\\n', '\\nMLB\\n', '\\nCALVIN KLEIN\\n', '\\nTOMMY HILFIGER\\n', \"\\nLEVI'S\\n\", '\\nLEE\\n', '\\nWRANGLER\\n', '\\nEVISU\\n', '\\nARMANI EXCHANGE\\n', '\\nG-SHOCK\\n', '\\nD1 MILANO\\n', '\\nTISSOT\\n', '\\nLACOSTE\\n', '\\nBOSS\\n', '\\nDAPPER\\n', '\\nJOHN HENRY\\n', '\\nJOCKEY\\n', '\\nGQ\\n', '\\nPIERRE CARDIN\\n', '\\nHUSH PUPPIES\\n', '\\nMIDO\\n', '\\nLONGINES\\n', '\\nFREDERIQUE CONSTANT\\n', '\\nNIKE\\n', '\\nADIDAS\\n', '\\nCONVERSE\\n', '\\nVANS\\n', '\\nKEEN\\n', '\\nSKECHERS\\n', '\\nBIRKENSTOCK\\n', '\\nRAY-BAN\\n', '\\nSEIKO\\n', '\\nEMPORIO ARMANI\\n', '\\nDANIEL WELLINGTON\\n', '\\nARMANI EXCHANGE\\n', '\\nBABY-G\\n', '\\nBALLY\\n', '\\nCATH KIDSTON\\n', '\\nCOACH\\n', '\\nCOCCINELLE\\n', '\\nEXPRESSION\\n', '\\nFITFLOP\\n', '\\nFOF\\n', '\\nG2000\\n', '\\nGUESS\\n', '\\nJUBILEE DAIMOND\\n', '\\nKARL LAGERFELD\\n', '\\nKATE SPADE NEW YORK\\n', '\\nKENNETH COLE\\n', '\\nKIPLING\\n', '\\nKLOSET\\n', '\\nMARC JACOB\\n', '\\nMARIMEKKO\\n', '\\nMARKS & SPENCER\\n', '\\nMELISSA\\n', '\\nPANDORA\\n', '\\nPOLO RALPH LAUREN\\n', '\\nPRIMA\\n', '\\nSABINA\\n', '\\nSFERA\\n', '\\nSHU\\n', '\\nSPORTY & RICH\\n', '\\nSTACCATO\\n', '\\nTRIUMPH\\n', '\\nURBAN REVIVO\\n', '\\nWACOAL\\n', '\\nYACCO MARICARD\\n', '\\nANGEL BABY\\n', '\\nANGEL KIDS\\n', '\\nATTITUDE MOM\\n', '\\nAUKA\\n', '\\nBaby Einstein\\n', '\\nBABY MOBY\\n', '\\nBARBIE\\n', '\\nBeaba\\n', '\\nBRIGHT STARS\\n', '\\nCAMERA\\n', '\\nCHICCO\\n', '\\nCOMBI\\n', '\\nEnfant\\n', '\\nFOF KIDS\\n', '\\nGadeaux Kids\\n', '\\nGLOWY STAR\\n', '\\nGraco\\n', '\\nHotwheel\\n', '\\nHUGGIES\\n', '\\nJOIE\\n', '\\nLAMOON\\n', '\\nLEE KIDS\\n', '\\nLEGO\\n', '\\nLUXURY BABY\\n', '\\nOONEW\\n', '\\nPaw Patrol\\n', '\\nPIGEON\\n', '\\nPlaygoandplaygrond\\n', '\\nPlaymobil\\n', '\\nPureen\\n', '\\nSANRIO\\n', '\\nSKIP HOP\\n', '\\nWisher Toy\\n', '\\nAMERICAN TOURISTER\\n', '\\nBOSCH\\n', '\\nBRAUN\\n', '\\nELECTROLUX\\n', '\\nELLE\\n', '\\nZOJIRUSHI\\n', '\\nKENWOOD\\n', '\\nKITCHENAID\\n', '\\nLEGEND WALKER\\n', '\\nLocknLock\\n', '\\nLOTUS\\n', '\\nLUCARIS\\n', '\\nWMF\\n', '\\nMEYER\\n', '\\nTOSHIBA\\n', '\\nPANASONIC\\n', '\\nPOLO TRAVEL CLUB\\n', '\\nREMINGTON\\n', '\\nBLUEAIR\\n', '\\nJoseph Joseph\\n', '\\nTANITA\\n', '\\nDYSON\\n', '\\nPHILIPS\\n', '\\nTEFAL\\n', '\\nDELONGHI\\n', '\\nPASAYA\\n', '\\nKRUPS\\n', '\\nCAGGIONI\\n', '\\nSAMSONITE\\n', '\\nGIOGRACIA POLO CLUB\\n', '\\nESQUIRE\\n', '\\nNESPRESSO\\n', '\\nNU COVER\\n', '\\nB&O PLAY\\n', '\\nJMF PROPLUS\\n', '\\nLUCIEN\\n', '\\nNOKIA\\n', '\\nUB Tech\\n', '\\nZACE\\n', '\\nULTIMATE EARS\\n', '\\nTA ROBOT\\n', '\\nNONDA\\n', '\\nNANOLEAF\\n', '\\nMOPHIE\\n', '\\nJAYBIRD\\n', '\\nIFROGZ\\n', '\\nFRESHN REBEL\\n', '\\nELGATO\\n', '\\nELEMENT CASE\\n', '\\nCOLOUD\\n', '\\nBRAGI\\n', '\\nBEZALEL\\n', '\\nRHA\\n', '\\nSKULLCANDY\\n', '\\nPHILIPS\\n', '\\nGARMIN\\n', '\\nFITBIT\\n', '\\nSUUNTO\\n', '\\nGOPRO\\n', '\\nMARSHALL\\n', '\\nB&O\\n', '\\nAFTERSHOKZ\\n', '\\nSPHERO\\n', '\\nPLANTRONICS\\n', '\\nBELKIN\\n', '\\nNATIVE UNION\\n', '\\n360FITNESS\\n', '\\nDEUTER\\n', '\\nEAGLE CREEK\\n', '\\nFOOTJOY\\n', '\\nJASON\\n', '\\nKARANA\\n', '\\nKELA SPORT\\n', '\\nYORK\\n', '\\nK-SWISS\\n', '\\nLFC\\n', '\\nLORNA JANE\\n', '\\nMOLTEN\\n', '\\nNEW BALANCE\\n', '\\nUNDER ARMOUR\\n', '\\nPAN\\n', '\\nTITLEIST\\n', '\\nTIGER\\n', '\\nTHE NORTH FACE\\n', '\\nSWANS\\n', '\\nREEBOK\\n', '\\nSALOMON\\n', '\\nSPEEDO\\n', '\\nSKECHERS\\n', '\\nNIKE\\n', '\\nADIDAS\\n', '\\nCROCS\\n', '\\nUMBRO\\n', '\\nFILA\\n', '\\nWILSON\\n', \"\\nDESIGNER\\n                            \\n                                \\n\\n\\n\\n\\n\\n\\n\\n\\n\\n\\n\\n\\nFEATUREDDESIGNER\\nTHAIDESIGNER\\n\\n\\n\\n\\n\\n\\n\\n\\n\\n\\n\\n\\n\\n\\nA COLD WALL\\n\\n\\nA.P.C.\\n\\n\\nARMANI EXCHANGE\\n\\n\\nBALMAIN SWIMWEAR\\n\\n\\nBOSS\\n\\n\\nBY FAR\\n\\n\\nCK CALVIN KLEIN\\n\\n\\nCOACH\\n\\n\\nCOCCINELLE\\n\\n\\nCOPERNI\\n\\n\\nDIANE VON FURSTENBERG\\n\\n\\nDIESEL\\n\\n\\n\\n\\n\\n\\n\\n\\n\\nFARM RIO\\n\\n\\nFURLA\\n\\n\\nGCDS\\n\\n\\nISABEL MARANT\\n\\n\\nKARL LAGERFELD\\n\\n\\nKATE SPADE\\n\\n\\nMAISON KITSUNE\\n\\n\\nMAJE\\n\\n\\nMARC JACOBS\\n\\n\\nMARIMEKKO\\n\\n\\nMAXMARA\\n\\n\\nMOSCHINO\\n\\n\\n\\n\\n\\n\\n\\n\\n\\nNAKED WOLFE\\n\\n\\nPAUL SMITH\\n\\n\\nPOLO RALPH LAUREN\\n\\n\\nREBECCA MINKOFF\\n\\n\\nSANDRO\\n\\n\\nSERGIO ROSSI\\n\\n\\nSPORTY & RICH\\n\\n\\nSUNNEI\\n\\n\\nVILEBREQUIN\\n\\n\\nVIVIENNE WESTWOOD\\n\\n\\n\\n\\n\\n\\n\\n\\n\\n\\n\\n\\n\\n\\n\\n\\n\\n\\n\\n\\n\\n\\nSHOP ALL DESIGNER\\n\\n\\n\\n\\n\\n\\n\\n\\n\\n\\n\\n\\n\\n\\n\\n\\n\\n\\n\\nASAVA\\n\\n\\nASV\\n\\n\\nICONIC\\n\\n\\nJanesuda\\n\\n\\nKloset\\n\\n\\n\\n\\n\\n\\n\\n\\n\\nKLOSET & ETCETERA\\n\\n\\nShaka\\n\\n\\nVick's\\n\\n\\nVickteerut\\n\\n\\n\\n\\n\\n\\n\\n\\n\\n\\n\\n\\n\\n\\n\\n\\n\\n\\n\\nSHOP ALL THAI DESIGNER\\n\\n\\n\\n\\n\\n\\n\\n\\n\\n\\n\\n\\n\\n\\n\\n\\n\\n\\n\", '\\n\\n', '\\nA COLD WALL\\n', '\\nA.P.C.\\n', '\\nARMANI EXCHANGE\\n', '\\nBALMAIN SWIMWEAR\\n', '\\nBOSS\\n', '\\nBY FAR\\n', '\\nCK CALVIN KLEIN\\n', '\\nCOACH\\n', '\\nCOCCINELLE\\n', '\\nCOPERNI\\n', '\\nDIANE VON FURSTENBERG\\n', '\\nDIESEL\\n', '\\n\\n', '\\nFARM RIO\\n', '\\nFURLA\\n', '\\nGCDS\\n', '\\nISABEL MARANT\\n', '\\nKARL LAGERFELD\\n', '\\nKATE SPADE\\n', '\\nMAISON KITSUNE\\n', '\\nMAJE\\n', '\\nMARC JACOBS\\n', '\\nMARIMEKKO\\n', '\\nMAXMARA\\n', '\\nMOSCHINO\\n', '\\n\\n', '\\nNAKED WOLFE\\n', '\\nPAUL SMITH\\n', '\\nPOLO RALPH LAUREN\\n', '\\nREBECCA MINKOFF\\n', '\\nSANDRO\\n', '\\nSERGIO ROSSI\\n', '\\nSPORTY & RICH\\n', '\\nSUNNEI\\n', '\\nVILEBREQUIN\\n', '\\nVIVIENNE WESTWOOD\\n', '\\n\\n', '\\nASAVA\\n', '\\nASV\\n', '\\nICONIC\\n', '\\nJanesuda\\n', '\\nKloset\\n', '\\n\\n', '\\nKLOSET & ETCETERA\\n', '\\nShaka\\n', \"\\nVick's\\n\", '\\nVickteerut\\n', '\\nBEAUTY\\n                            \\n                                \\n\\n\\n\\n\\n\\n\\n\\n\\n\\n\\n\\n\\nNew Drops\\n\\n\\n\\n\\n\\n\\n\\n\\n\\n\\nSkincare\\n\\nCleanser\\nEssence\\nEye Cream\\nFacial Treatment\\nMoisturiser\\nOil & Serum\\nSunscreen\\nToner\\n\\n\\n\\n\\n\\nBeauty Sets\\n\\n\\n\\n\\n\\n\\n\\n\\n\\n\\n\\n\\n\\n\\nMakeup\\n\\nEyes Makeup\\nFace Makeup\\nLips Makeup\\nMakeup Remover\\nNails Makeup\\n\\n\\n\\n\\n\\nFragrance\\n\\nMen Fragrance\\nWomen Fragrance\\nUnisex Fragrance\\n\\n\\n\\n\\n\\n\\n\\n\\n\\nBath & Body\\n\\nBath Shower\\nBody Scrub\\nBody Treatment\\nHand & Nails Care\\n\\n\\n\\n\\n\\nHair Care\\n\\nHair Styling\\nHair Treatment\\nShampoo & Conditioner\\n\\n\\n\\n\\n\\n\\n\\n\\n\\nHealth Care\\n\\nDietary Supplements\\nSport Recovery Equipment\\nContact Lens\\nFirst Aid & Medical Equipment\\nFace Masks\\nSexual Wellness\\n\\n\\n\\n\\n\\n\\n\\n\\n\\nMen Essentials\\n\\nElectric Shavers\\nMen Bath & Body\\nMen Hair Styling\\nMen Shampoo & Conditioner\\nMen Skincare\\n\\n\\n\\n\\n\\n\\n\\n\\n\\nPersonal Care\\n\\nOral Care\\nDeodorant\\nFeminine Care\\nAdult Diapers\\n\\n\\n\\n\\n\\n\\n\\n\\n\\n\\n', '\\nNew Drops\\n', '\\nSkincare\\n', 'Cleanser', 'Essence', 'Eye Cream', 'Facial Treatment', 'Moisturiser', 'Oil & Serum', 'Sunscreen', 'Toner', '\\nBeauty Sets\\n', '\\nMakeup\\n', 'Eyes Makeup', 'Face Makeup', 'Lips Makeup', 'Makeup Remover', 'Nails Makeup', '\\nFragrance\\n', 'Men Fragrance', 'Women Fragrance', 'Unisex Fragrance', '\\nBath & Body\\n', 'Bath Shower', 'Body Scrub', 'Body Treatment', 'Hand & Nails Care', '\\nHair Care\\n', 'Hair Styling', 'Hair Treatment', 'Shampoo & Conditioner', '\\nHealth Care\\n', 'Dietary Supplements', 'Sport Recovery Equipment', 'Contact Lens', 'First Aid & Medical Equipment', 'Face Masks', 'Sexual Wellness', '\\nMen Essentials\\n', 'Electric Shavers', 'Men Bath & Body', 'Men Hair Styling', 'Men Shampoo & Conditioner', 'Men Skincare', '\\nPersonal Care\\n', 'Oral Care', 'Deodorant', 'Feminine Care', 'Adult Diapers', '\\nWOMEN\\n                            \\n                                \\n\\n\\n\\n\\n\\n\\n\\n\\n\\n\\n\\n\\nNew Drops\\n\\n\\n\\n\\n\\n\\n\\n\\n\\n\\nClothing\\n\\nTops\\nDresses\\nJeans\\nJackets & Coats\\nJumpsuits\\nPants\\nShorts\\nSkirts\\nSleepwear\\n\\n\\n\\n\\n\\n\\n\\n\\n\\nShoes\\n\\nBoots\\nFlats\\nHeels\\nSandals\\nSneakers\\nSport Shoes\\n\\n\\n\\n\\n\\n\\n\\n\\n\\nBags\\n\\nTote Bags\\nShoulder Bags\\nPurses & Wallets\\n\\n\\n\\n\\n\\nSports Apparel\\n\\nSwimwear\\nSports Tops\\nSports Bottoms\\nSports Bra\\n\\n\\n\\n\\n\\n\\n\\n\\n\\nLingeries\\n\\nBras\\nBodysuit\\nCamisoles & Tanks\\nPanties\\nShapewear\\nStockings\\nLingerie Accessories\\nLongjohn\\n\\n\\n\\n\\n\\n\\n\\n\\n\\nJewelry\\n\\nEarrings\\nNecklaces\\nRings\\n\\n\\n\\n\\n\\nWatch\\n\\nLuxury Watches\\nSwiss Made Watches\\nFashion Watches\\nSmart Watches\\nWatch Accessories\\n\\n\\n\\n\\n\\n\\n\\n\\n\\nEyewear & Sunglasses\\n\\nSunglasses\\nEyewear Accessories\\n\\n\\n\\n\\n\\nAccessories\\n\\nHats & Hair Accessories\\nScarves & Gloves\\nBelts\\n\\n\\n\\n\\n\\n\\n\\n\\n\\n\\n', '\\nNew Drops\\n', '\\nClothing\\n', 'Tops', 'Dresses', 'Jeans', 'Jackets & Coats', 'Jumpsuits', 'Pants', 'Shorts', 'Skirts', 'Sleepwear', '\\nShoes\\n', 'Boots', 'Flats', 'Heels', 'Sandals', 'Sneakers', 'Sport Shoes', '\\nBags\\n', 'Tote Bags', 'Shoulder Bags', 'Purses & Wallets', '\\nSports Apparel\\n', 'Swimwear', 'Sports Tops', 'Sports Bottoms', 'Sports Bra', '\\nLingeries\\n', 'Bras', 'Bodysuit', 'Camisoles & Tanks', 'Panties', 'Shapewear', 'Stockings', 'Lingerie Accessories', 'Longjohn', '\\nJewelry\\n', 'Earrings', 'Necklaces', 'Rings', '\\nWatch\\n', 'Luxury Watches', 'Swiss Made Watches', 'Fashion Watches', 'Smart Watches', 'Watch Accessories', '\\nEyewear & Sunglasses\\n', 'Sunglasses', 'Eyewear Accessories', '\\nAccessories\\n', 'Hats & Hair Accessories', 'Scarves & Gloves', 'Belts', '\\nMEN\\n                            \\n                                \\n\\n\\n\\n\\n\\n\\n\\n\\n\\n\\n\\n\\nNew Drops\\n\\n\\n\\n\\n\\n\\n\\n\\n\\n\\nClothing\\n\\nT-Shirts\\nPants\\nJackets & Coats\\nJeans\\nPolos\\n\\n\\n\\n\\n\\nBags\\n\\nBackpacks\\nCross Body Bags\\nSport Bags\\n\\n\\n\\n\\n\\n\\n\\n\\n\\nShoes\\n\\nBoots\\nLeather Shoes\\nSandals\\nSneakers\\nSport Shoes\\n\\n\\n\\n\\n\\nEyewear\\n\\nSunglasses\\nGlasses\\nEyewear Accessories\\n\\n\\n\\n\\n\\n\\n\\n\\n\\nUnderwear\\n\\nBoxers\\nBriefs\\nLongjohn\\nTrunks\\nUnderwear Packs\\n\\n\\n\\n\\n\\nSports Apparel\\n\\nTops\\nBottoms\\nSwimwear\\n\\n\\n\\n\\n\\n\\n\\n\\n\\nWatch\\n\\nLuxury Watches\\nSwiss Made Watches\\nFashion Watches\\nSmart Watches\\nWatch Accessories\\n\\n\\n\\n\\n\\n\\n\\n\\n\\nJewelry\\n\\nBracelets\\nEarrings\\nNecklaces\\nRings\\n\\n\\n\\n\\n\\n\\n\\n\\n\\nAccessories \\n\\nHats & Caps\\nNeckties & Bowties\\nScarves & Gloves\\nBelts & Suspenders\\nSocks\\n\\n\\n\\n\\n\\n\\n\\n\\n\\n\\n', '\\nNew Drops\\n', '\\nClothing\\n', 'T-Shirts', 'Pants', 'Jackets & Coats', 'Jeans', 'Polos', '\\nBags\\n', 'Backpacks', 'Cross Body Bags', 'Sport Bags', '\\nShoes\\n', 'Boots', 'Leather Shoes', 'Sandals', 'Sneakers', 'Sport Shoes', '\\nEyewear\\n', 'Sunglasses', 'Glasses', 'Eyewear Accessories', '\\nUnderwear\\n', 'Boxers', 'Briefs', 'Longjohn', 'Trunks', 'Underwear Packs', '\\nSports Apparel\\n', 'Tops', 'Bottoms', 'Swimwear', '\\nWatch\\n', 'Luxury Watches', 'Swiss Made Watches', 'Fashion Watches', 'Smart Watches', 'Watch Accessories', '\\nJewelry\\n', 'Bracelets', 'Earrings', 'Necklaces', 'Rings', '\\nAccessories \\n', 'Hats & Caps', 'Neckties & Bowties', 'Scarves & Gloves', 'Belts & Suspenders', 'Socks', '\\nFASHION ACCESSORIES\\n                            \\n                                \\n\\n\\n\\n\\n\\n\\n\\n\\n\\n\\n\\n\\nNew Drops\\n\\n\\n\\n\\n\\n\\n\\n\\n\\n\\nWomen Jewelry\\n\\nBracelets\\nEarrings\\nNecklaces\\nRings\\n\\n\\n\\n\\n\\nWomen Watch\\n\\nLuxury Watches\\nSwiss Made Watches\\nFashion Watches\\nSmart Watches\\n\\n\\n\\n\\n\\n\\n\\n\\n\\nWomen Accessories\\n\\nHats & Hair Accessories\\nScarves & Gloves\\n\\n\\n\\n\\n\\nWomen Eyewear & Sunglasses\\n\\nSunglasses\\nEyewear Accessories\\n\\n\\n\\n\\n\\n\\n\\n\\n\\nMen Jewelry\\n\\nBracelets\\nEarrings\\nNecklaces\\nRings\\n\\n\\n\\n\\n\\nMen Watch\\n\\nLuxury Watches\\nSwiss Made Watches\\nFashion Watches\\nSmart Watches\\n\\n\\n\\n\\n\\n\\n\\n\\n\\nMen Eyewear & Sunglasses\\n\\nSunglasses\\nGlasses\\n\\n\\n\\n\\n\\nMen Accessories \\n\\nHats & Caps\\nNeckties & Bowties\\nScarves & Gloves\\nBelts & Suspenders\\nSocks\\n\\n\\n\\n\\n\\n\\n\\n\\n\\nKids Bags\\n\\nBackpacks\\nShoulder Bags\\nWallets & Purses\\n\\n\\n\\n\\n\\nKids Eyewear\\n\\nSunglasses\\nGlasses\\nEyewear Accessories\\n\\n\\n\\n\\n\\nKids Watches\\n\\n\\n\\n\\n\\n\\n\\n\\n\\n\\nKids Accessories\\n\\nBabies Accessories\\nBoys Accessories\\nGirls Accessories\\n\\n\\n\\n\\n\\nFace Masks\\n\\nFabric Masks\\nKids Face Masks\\nMedical & Surgical Masks\\nRespirator Masks\\n\\n\\n\\n\\n\\n\\n\\n\\n\\n\\n', '\\nNew Drops\\n', '\\nWomen Jewelry\\n', 'Bracelets', 'Earrings', 'Necklaces', 'Rings', '\\nWomen Watch\\n', 'Luxury Watches', 'Swiss Made Watches', 'Fashion Watches', 'Smart Watches', '\\nWomen Accessories\\n', 'Hats & Hair Accessories', 'Scarves & Gloves', '\\nWomen Eyewear & Sunglasses\\n', 'Sunglasses', 'Eyewear Accessories', '\\nMen Jewelry\\n', 'Bracelets', 'Earrings', 'Necklaces', 'Rings', '\\nMen Watch\\n', 'Luxury Watches', 'Swiss Made Watches', 'Fashion Watches', 'Smart Watches', '\\nMen Eyewear & Sunglasses\\n', 'Sunglasses', 'Glasses', '\\nMen Accessories \\n', 'Hats & Caps', 'Neckties & Bowties', 'Scarves & Gloves', 'Belts & Suspenders', 'Socks', '\\nKids Bags\\n', 'Backpacks', 'Shoulder Bags', 'Wallets & Purses', '\\nKids Eyewear\\n', 'Sunglasses', 'Glasses', 'Eyewear Accessories', '\\nKids Watches\\n', '\\nKids Accessories\\n', 'Babies Accessories', 'Boys Accessories', 'Girls Accessories', '\\nFace Masks\\n', 'Fabric Masks', 'Kids Face Masks', 'Medical & Surgical Masks', 'Respirator Masks', '\\nMOM & KIDS\\n                            \\n                                \\n\\n\\n\\n\\n\\n\\n\\n\\n\\n\\n\\n\\nNew Drops\\n\\n\\n\\n\\n\\n\\n\\n\\n\\n\\nKids Clothing\\n\\nBoys\\nGirls\\nBaby\\n\\n\\n\\n\\n\\nKids Shoes\\n\\nBaby-Infant-Toddlers\\nGirls\\nBoys\\n\\n\\n\\n\\n\\n\\n\\n\\n\\nToys\\n\\nToy Figures\\nStuffed Toys\\nDolls\\nKid Block Toys\\nToddler & Infant Toys\\nRole Play Toy\\nToys Ride On\\nKid Board Games\\nKid Arts & Crafts\\n\\n\\n\\n\\n\\n\\n\\n\\n\\nBaby Gear\\n\\nWalkers\\nBaby Carriers\\nCar Seats & Booster Seats\\nBaby Accessories\\nBaby Swings, Jumpers & Bouncers\\nPlay Mats & Playpens\\nPrams & Baby Strollers\\n\\n\\n\\n\\n\\n\\n\\n\\n\\nKids Sports Apparel\\n\\nBoys\\nGirls\\n\\n\\n\\n\\n\\nMaternity Clothing\\n\\nTops\\nBottoms\\nDresses\\nLingeries\\n\\n\\n\\n\\n\\n\\n\\n\\n\\nBaby Sleeping\\n\\n\\n\\n\\n\\n\\nBaby Hygiene\\n\\nBathing Toiletries\\nBaby Detergents\\nBaby Shampoo & Conditioner\\nBath Tubs\\nBaby Skincare\\nBaby Diapers\\n\\n\\n\\n\\n\\n\\n\\n\\n\\nBaby Feeding\\n\\nBaby Bibs\\nMilk Formula & Baby Foods\\nBreast Pumps\\nBottles & Pacifiers\\nBottle Warmers & Sterilizers\\nWeaning & Baby Utensils\\nBaby High Chairs\\n\\n\\n\\n\\n\\n\\n\\n\\n\\n\\n', '\\nNew Drops\\n', '\\nKids Clothing\\n', 'Boys', 'Girls', 'Baby', '\\nKids Shoes\\n', 'Baby-Infant-Toddlers', 'Girls', 'Boys', '\\nToys\\n', 'Toy Figures', 'Stuffed Toys', 'Dolls', 'Kid Block Toys', 'Toddler & Infant Toys', 'Role Play Toy', 'Toys Ride On', 'Kid Board Games', 'Kid Arts & Crafts', '\\nBaby Gear\\n', 'Walkers', 'Baby Carriers', 'Car Seats & Booster Seats', 'Baby Accessories', 'Baby Swings, Jumpers & Bouncers', 'Play Mats & Playpens', 'Prams & Baby Strollers', '\\nKids Sports Apparel\\n', 'Boys', 'Girls', '\\nMaternity Clothing\\n', 'Tops', 'Bottoms', 'Dresses', 'Lingeries', '\\nBaby Sleeping\\n', '\\nBaby Hygiene\\n', 'Bathing Toiletries', 'Baby Detergents', 'Baby Shampoo & Conditioner', 'Bath Tubs', 'Baby Skincare', 'Baby Diapers', '\\nBaby Feeding\\n', 'Baby Bibs', 'Milk Formula & Baby Foods', 'Breast Pumps', 'Bottles & Pacifiers', 'Bottle Warmers & Sterilizers', 'Weaning & Baby Utensils', 'Baby High Chairs', '\\nHOME & LIFESTYLE\\n                            \\n                                \\n\\n\\n\\n\\n\\n\\n\\n\\n\\n\\n\\n\\nNew Drops\\n\\n\\n\\n\\n\\n\\n\\n\\n\\n\\n\\n\\n\\n\\nGrocery\\n\\nCanned Food\\nBeverages\\nSnacks & Sweets\\nFood Staples & Cooking Essentials\\n\\n\\n\\n\\n\\nBedding\\n\\nMattress\\nPads & Toppers\\nBedding Sheets\\nPillows-Bolsters-Cushions\\n\\n\\n\\n\\n\\n\\n\\n\\n\\nFurniture\\n\\nDesks\\nChairs\\nWardrobe\\nSofas\\nArmchairs\\nTables\\nMassage Chairs\\nCabinets\\n\\n\\n\\n\\n\\n\\n\\n\\n\\nHome Decoration\\n\\nCollectibles\\nHome Decorative Ornaments\\nDesk Accessories\\nCarpets & Rugs\\nClocks & Alarm Clocks\\nHome Fragrances\\nVases\\nLamps & Lightings\\n\\n\\n\\n\\n\\nOutdoor & Garden\\n\\n\\n\\n\\n\\n\\n\\n\\n\\n\\nCooking & Dining\\n\\nFood Storage\\nUtensils\\nDrinkware\\nTea & Coffee Equipment\\nDinnerware\\nCookware\\nBakeware\\n\\n\\n\\n\\n\\nElderly Care\\n\\nMobility Aids\\n\\n\\n\\n\\n\\n\\n\\n\\n\\n\\n\\n\\n\\nBathing\\n\\nShower Curtains\\nBath Rugs\\nBathroom Organisers\\nBath Accessories\\nTowels\\n\\n\\n\\n\\n\\nPet Supplies\\n\\nAquatic Fishes\\nDogs\\nCats\\n\\n\\n\\n\\n\\n\\n\\n\\n\\nCleaning Equipment & Supplies\\n\\nAir Fresheners\\nBins & Garbage Bags\\nBrooms & Dustpans\\nMops & Buckets\\nCleaning Liquids\\nFabric Brushes\\nTissue Paper\\n\\n\\n\\n\\n\\nOffice Supplies & Stationery\\n\\n\\n\\n\\n\\n\\n\\n\\n\\n\\n\\n', '\\nNew Drops\\n', '\\nGrocery\\n', 'Canned Food', 'Beverages', 'Snacks & Sweets', 'Food Staples & Cooking Essentials', '\\nBedding\\n', 'Mattress', 'Pads & Toppers', 'Bedding Sheets', 'Pillows-Bolsters-Cushions', '\\nFurniture\\n', 'Desks', 'Chairs', 'Wardrobe', 'Sofas', 'Armchairs', 'Tables', 'Massage Chairs', 'Cabinets', '\\nHome Decoration\\n', 'Collectibles', 'Home Decorative Ornaments', 'Desk Accessories', 'Carpets & Rugs', 'Clocks & Alarm Clocks', 'Home Fragrances', 'Vases', 'Lamps & Lightings', '\\nOutdoor & Garden\\n', '\\nCooking & Dining\\n', 'Food Storage', 'Utensils', 'Drinkware', 'Tea & Coffee Equipment', 'Dinnerware', 'Cookware', 'Bakeware', '\\nElderly Care\\n', 'Mobility Aids', '\\nBathing\\n', 'Shower Curtains', 'Bath Rugs', 'Bathroom Organisers', 'Bath Accessories', 'Towels', '\\nPet Supplies\\n', 'Aquatic Fishes', 'Dogs', 'Cats', '\\nCleaning Equipment & Supplies\\n', 'Air Fresheners', 'Bins & Garbage Bags', 'Brooms & Dustpans', 'Mops & Buckets', 'Cleaning Liquids', 'Fabric Brushes', 'Tissue Paper', '\\nOffice Supplies & Stationery\\n', '\\nHOME APPLIANCES\\n                            \\n                                \\n\\n\\n\\n\\n\\n\\n\\n\\n\\n\\n\\n\\nNew Drops\\n\\n\\n\\n\\n\\n\\n\\n\\n\\n\\n\\n\\n\\n\\nCooking Appliances\\n\\nRice Cookers\\nBlenders\\nOvens\\nCoffee Maker\\n\\n\\n\\n\\n\\nLarge Appliances\\n\\nWashing Machines\\nDishwashers\\nDryers\\nRefrigerators\\n\\n\\n\\n\\n\\n\\n\\n\\n\\nTV & Entertainment\\n\\nTelevision\\nHome Audio & Media Player\\n\\n\\n\\n\\n\\nWater Appliances\\n\\nWater Pumps\\nWater Heaters\\nWater Dispensers\\nWater Filters\\nWater Purifiers\\n\\n\\n\\n\\n\\n\\n\\n\\n\\nVacuum Cleaners\\n\\nStick Vacuum\\nRobot Vacuum\\nCar Vacuum Cleaner\\nCanister Vacuum\\n\\n\\n\\n\\n\\nGarment Appliances\\n\\nIrons \\nSewing Machines\\nGarment Steamer\\n\\n\\n\\n\\n\\n\\n\\n\\n\\nSmart Home & Security\\n\\nSmart Lamps\\nSafe Box\\nHome Monitoring & CCTV\\nSmart Locks\\n\\n\\n\\n\\n\\nHome Accessories\\n\\nBatteries\\nAC Outlets\\nFlashlights\\n\\n\\n\\n\\n\\n\\n\\n\\n\\nFans & Air Purifiers\\n\\nAir Purifiers\\nAir Humidifiers\\nAir Quality Monitors\\nFans\\nAccessories\\n\\n\\n\\n\\n\\n\\n\\n\\n\\n\\n\\n\\n\\nPersonal Care Appliances\\n\\nElectric Shavers\\nHair Removal\\nElectric Toothbrushes\\nHair Curlers\\nHair Straighteners\\nHair Dryers\\n\\n\\n\\n\\n\\n\\n\\n\\n\\n\\n', '\\nNew Drops\\n', '\\nCooking Appliances\\n', 'Rice Cookers', 'Blenders', 'Ovens', 'Coffee Maker', '\\nLarge Appliances\\n', 'Washing Machines', 'Dishwashers', 'Dryers', 'Refrigerators', '\\nTV & Entertainment\\n', 'Television', 'Home Audio & Media Player', '\\nWater Appliances\\n', 'Water Pumps', 'Water Heaters', 'Water Dispensers', 'Water Filters', 'Water Purifiers', '\\nVacuum Cleaners\\n', 'Stick Vacuum', 'Robot Vacuum', 'Car Vacuum Cleaner', 'Canister Vacuum', '\\nGarment Appliances\\n', 'Irons ', 'Sewing Machines', 'Garment Steamer', '\\nSmart Home & Security\\n', 'Smart Lamps', 'Safe Box', 'Home Monitoring & CCTV', 'Smart Locks', '\\nHome Accessories\\n', 'Batteries', 'AC Outlets', 'Flashlights', '\\nFans & Air Purifiers\\n', 'Air Purifiers', 'Air Humidifiers', 'Air Quality Monitors', 'Fans', 'Accessories', '\\nPersonal Care Appliances\\n', 'Electric Shavers', 'Hair Removal', 'Electric Toothbrushes', 'Hair Curlers', 'Hair Straighteners', 'Hair Dryers', '\\nELECTRONIC & GADGETS\\n                            \\n                                \\n\\n\\n\\n\\n\\n\\n\\n\\n\\n\\n\\n\\nNew Drops\\n\\n\\n\\n\\n\\n\\n\\n\\n\\n\\nComputers\\n\\nDesktop PC\\nMouses\\nMonitors\\nPC Games & Softwares\\nWebcams\\nStorage & Memory Cards\\nKeyboards\\nProjectors\\nPrinters & Scanners\\n\\n\\n\\n\\n\\n\\n\\n\\n\\nHeadphones & Speakers\\n\\nHeadphones\\nMicrophones\\nSpeakers\\nAudio Accessories\\n\\n\\n\\n\\n\\n\\n\\n\\n\\nMobiles & Tablets\\n\\nMobile\\nTablet\\nAccessories\\n\\n\\n\\n\\n\\n\\n\\n\\n\\nCameras & Drones\\n\\nDSLR Cameras\\nCompact Cameras \\nDrones\\nCamera Accessories\\nMirrorless Cameras\\nCar Cameras\\nInstant & Film Cameras\\nAction Cameras \\n\\n\\n\\n\\n\\n\\n\\n\\n\\nWearable Gadgets\\n\\nFitness Tracker\\nVR Gears\\nSmartwatches\\n\\n\\n\\n\\n\\n\\n\\n\\n\\nConsole Gaming\\n\\nHandheld Gaming Consoles\\nConsole Games\\nConsoles\\nControllers\\nConsole Accessories\\n\\n\\n\\n\\n\\n\\n\\n\\n\\n\\n', '\\nNew Drops\\n', '\\nComputers\\n', 'Desktop PC', 'Mouses', 'Monitors', 'PC Games & Softwares', 'Webcams', 'Storage & Memory Cards', 'Keyboards', 'Projectors', 'Printers & Scanners', '\\nHeadphones & Speakers\\n', 'Headphones', 'Microphones', 'Speakers', 'Audio Accessories', '\\nMobiles & Tablets\\n', 'Mobile', 'Tablet', 'Accessories', '\\nCameras & Drones\\n', 'DSLR Cameras', 'Compact Cameras ', 'Drones', 'Camera Accessories', 'Mirrorless Cameras', 'Car Cameras', 'Instant & Film Cameras', 'Action Cameras ', '\\nWearable Gadgets\\n', 'Fitness Tracker', 'VR Gears', 'Smartwatches', '\\nConsole Gaming\\n', 'Handheld Gaming Consoles', 'Console Games', 'Consoles', 'Controllers', 'Console Accessories', '\\nSPORTS & TRAVEL\\n                            \\n                                \\n\\n\\n\\n\\n\\n\\n\\n\\n\\n\\n\\n\\nNew Drops\\n\\n\\n\\n\\n\\n\\n\\n\\n\\n\\nExercise & Fitness\\n\\nBoxing\\nYoga Equipment\\nTreadmills & Ellipticals\\nSpinbikes\\nAccessories\\n\\n\\n\\n\\n\\n\\n\\n\\n\\nTeam Sports\\n\\nVolleyball\\nSepak Takraw\\nFootball & Futsal\\nBasketball\\nOther Team Sports\\n\\n\\n\\n\\n\\n\\n\\n\\n\\nSwimming\\n\\nGoggles\\nDiving & Snorkeling Equipment \\nSwimming Caps\\nSwimming Inflatables\\nOthers Swimming\\n\\n\\n\\n\\n\\n\\n\\n\\n\\nOutdoor & Recreation\\n\\nGolf\\nCycling\\nSkates, Skate Boards & Scooters\\nFishing\\nCamping Equipment\\n\\n\\n\\n\\n\\n\\n\\n\\n\\nTravel\\n\\nLuggages\\nTravel Accessories\\n\\n\\n\\n\\n\\nRacket Sports\\n\\nTennis\\nTable Tennis\\nBadminton\\n\\n\\n\\n\\n\\n\\n\\n\\n\\n\\n', '\\nNew Drops\\n', '\\nExercise & Fitness\\n', 'Boxing', 'Yoga Equipment', 'Treadmills & Ellipticals', 'Spinbikes', 'Accessories', '\\nTeam Sports\\n', 'Volleyball', 'Sepak Takraw', 'Football & Futsal', 'Basketball', 'Other Team Sports', '\\nSwimming\\n', 'Goggles', 'Diving & Snorkeling Equipment ', 'Swimming Caps', 'Swimming Inflatables', 'Others Swimming', '\\nOutdoor & Recreation\\n', 'Golf', 'Cycling', 'Skates, Skate Boards & Scooters', 'Fishing', 'Camping Equipment', '\\nTravel\\n', 'Luggages', 'Travel Accessories', '\\nRacket Sports\\n', 'Tennis', 'Table Tennis', 'Badminton', '\\nGIFTS\\n                            \\n                        \\n', '\\nSALE\\n                            \\n                        \\n', 'Information & Help', '\\nTrack your orders\\n', '\\n Find a store\\n', '\\n\\nEnglish\\nThai\\n\\n', 'My Account', 'My Orders', 'Wishlist', '', '\\n Log out \\n', 'Free gift wrapping minimum 499.-', '1 gift message per 1 purchasing order only', 'Gift wrapping service available for items that sold by Central and product code starting with CDS only (exclude items that sold by 3rd party seller or Marketplace seller)', 'Product size to gift wrapping service must has sign “Gift wrapping available” and must be worth more than 200.-', 'Product size to gift wrapping service must be no larger than 38x43x33 cm. and weight not exceeding 5 kg.', 'Free comprehensive installation service comes with the delivery', 'Buy in-store or online, you will receive free installation', 'Installation by certified Power Care experts.', 'Our staff will call to confirm the installation date and time', 'In some case, you may need to pay additional fee.', 'Free delivery & installation within service zone. Please check service zone by postcode', 'Only available for products sold by Power Buy shop / not available for product sold by Marketplace seller', 'Free Installtion except water heater, water boilder,water purifier, Top-loaded washing machine', '\\xa0\\n', 'Choose TV/home appliance delivery & installation time for free', 'Our service is 7days service from 9:00 - 19:00', 'Installation by certified Power Care experts.', 'Our staff will call to confirm the installation date and time', '\\xa0\\n', 'Choose TV/home appliance delivery & installation time for free', 'Our service is 7days service from 9:00 - 19:00', 'Installation by certified Power Care experts.', 'Our staff will call to confirm the installation date and time', '\\xa0\\n', 'Choose TV/home appliance delivery & installation time for free', 'Our service is 7days service from 9:00 - 19:00', 'Installation by certified Power Care experts.', 'Our staff will call to confirm the installation date and time', '\\xa0\\n', '\\n1Make The 1 Earned points Redeemable\\n', '\\n2Order history accessible on all devices\\n', '\\n3Wishlist/Favorites available on all devices\\n', '\\n4Personal data prefilled (Name, Mobile, Email, and Address/Fav. Store) on account creation\\n', '• Central Department Store Co.,Ltd. (Central Online Branch 00041)• Address: 8 Moo 7 Bang Pla, Bang Phli, Samut Prakan, 10540, Thailand• Call Center: 1425,  Email: contact@central.co.th', 'Data Protection Officer', 'Data Protection Office, Central Group22 Soi Somkid Ploenchit Road, Lumpini, Pathumwan, Bangkok, 10330 Thailand', 'email: dpo@central.co.th', '\\n\\nHome\\n\\n\\n', '\\n\\nShop By Brand\\n\\n\\n', '\\nMC JEANS\\n\\n', '\\n  \\n', '\\n  \\n', '\\n  \\n', '\\n  \\n', '\\n  \\n', '\\n\\n\\n\\n', '\\nHow to Shop\\n', '\\nHow to Track Order\\n', '\\nHow to Pay\\n', '\\nHow to Cancel\\n', '\\nHow to access Live chat\\n', '\\nReturn Policy\\n', '\\nReturn at Store & Refund\\n', '\\nFAQs\\n', '\\nDelivery Policy\\n', '\\nHow to Return\\n', '\\nThe 1 Point Redemption\\n', '\\nClick & Collect\\n', '\\nCentral Chat & Shop\\n', '\\nCentral Personal Shopper\\n', '\\nCentral Gift Card\\n', '\\nWestern Union\\n', '\\nStore Location & Hours\\n', '\\nStore Promotions & Events\\n', '\\nTourist Guide\\n', '\\nAbout Us\\n', '\\nContact Us\\n', '\\nCareers\\n', '\\nPrivacy Policy\\n', '\\nCookie Policy\\n', '\\nTerms & Conditions\\n', '\\nWhistle-blowing & Complaints\\n', '\\n\\n', '\\n\\n']\n"
     ]
    }
   ],
   "source": [
    "# Scrape the webpage\n",
    "url = \"https://www.central.co.th/en/mc-jeans\"\n",
    "response = requests.get(url)\n",
    "soup = BeautifulSoup(response.content, \"html.parser\")\n",
    "\n",
    "# Example: Extract all text from paragraph tags\n",
    "texts = [p.get_text() for p in soup.find_all(\"li\")]\n",
    "print(texts)\n"
   ]
  },
  {
   "cell_type": "code",
   "execution_count": 20,
   "metadata": {},
   "outputs": [
    {
     "data": {
      "text/plain": [
       "<div class=\"central_container\">\n",
       "<div class=\"cmp-container\" id=\"main-site-content\">\n",
       "<div class=\"aem-Grid aem-Grid--12 aem-Grid--default--12\">\n",
       "<div class=\"central_breadcrumb aem-GridColumn aem-GridColumn--default--12\">\n",
       "<div class=\"container\">\n",
       "<nav aria-label=\"Breadcrumb\" class=\"cmp-breadcrumb\" data-cmp-data-layer='{\"breadcrumb-2020ab8d20\":{\"@type\":\"cds/components/commerce/breadcrumb\"}}' id=\"breadcrumb-2020ab8d20\" style=\"--bs-breadcrumb-divider: ''\">\n",
       "<ol class=\"cmp-breadcrumb__list breadcrumb mb-3\" itemscope=\"\" itemtype=\"http://schema.org/BreadcrumbList\">\n",
       "<li class=\"breadcrumb-item cmp-breadcrumb__item\" data-cmp-data-layer='{\"breadcrumb-2020ab8d20-item-3fc2f622ba\":{\"@type\":\"cds/components/commerce/breadcrumb/item\",\"repo:modifyDate\":\"2023-02-20T16:13:05Z\",\"dc:title\":\"Home\",\"xdm:linkURL\":\"/en\"}}' itemprop=\"itemListElement\" itemscope=\"\" itemtype=\"http://schema.org/ListItem\">\n",
       "<a class=\"cmp-breadcrumb__item-link\" data-cmp-clickable=\"\" href=\"/content/cds/th/en.html\" itemprop=\"item\">\n",
       "<span itemprop=\"name\">Home</span>\n",
       "</a>\n",
       "<meta content=\"1\" itemprop=\"position\">\n",
       "</meta></li>\n",
       "<li class=\"breadcrumb-item cmp-breadcrumb__item\" data-cmp-data-layer='{\"breadcrumb-2020ab8d20-item-eeb3f8d372\":{\"@type\":\"cds/components/commerce/breadcrumb/item\",\"repo:modifyDate\":\"2023-05-27T14:14:15Z\",\"dc:title\":\"Shop By Brand\",\"xdm:linkURL\":\"/en/shopbybrand\"}}' itemprop=\"itemListElement\" itemscope=\"\" itemtype=\"http://schema.org/ListItem\">\n",
       "<a class=\"cmp-breadcrumb__item-link\" data-cmp-clickable=\"\" href=\"/content/cds/th/en/shopbybrand.html\" itemprop=\"item\">\n",
       "<span itemprop=\"name\">Shop By Brand</span>\n",
       "</a>\n",
       "<meta content=\"2\" itemprop=\"position\"/>\n",
       "</li>\n",
       "<li class=\"breadcrumb-item cmp-breadcrumb__item cmp-breadcrumb__item--active\" data-cmp-data-layer='{\"breadcrumb-2020ab8d20-item-998e95c1c5\":{\"@type\":\"cds/components/commerce/breadcrumb/item\",\"repo:modifyDate\":\"2023-02-20T16:13:43Z\",\"dc:title\":\"MC JEANS\",\"xdm:linkURL\":\"/en/mc-jeans\"}}' itemprop=\"itemListElement\" itemscope=\"\" itemtype=\"http://schema.org/ListItem\">\n",
       "<span itemprop=\"name\">MC JEANS</span>\n",
       "<meta content=\"3\" itemprop=\"position\"/>\n",
       "</li>\n",
       "</ol>\n",
       "</nav>\n",
       "</div>\n",
       "</div>\n",
       "<div class=\"central_container aem-GridColumn aem-GridColumn--default--12\">\n",
       "<div class=\"cmp-container\" id=\"container-bcf2f444e2\">\n",
       "<div class=\"central_container\">\n",
       "<div class=\"cmp-container\" id=\"container-46811f4a13\">\n",
       "<div class=\"aem-Grid aem-Grid--8 aem-Grid--default--8 aem-Grid--phone--8\">\n",
       "<div class=\"central_image aem-GridColumn--default--none aem-GridColumn--phone--none aem-GridColumn aem-GridColumn--offset--phone--2 aem-GridColumn--phone--4 aem-GridColumn--offset--default--3 aem-GridColumn--default--2\">\n",
       "<div class=\"cmp-image\" data-asset=\"/content/dam/central/brands/non-food/mc-jeans/MC_JEANS_2.jpg\" data-cmp-data-layer='{\"image-c30869bcb4\":{\"@type\":\"core/wcm/components/image/v2/image\",\"image\":{\"repo:id\":\"e6949b7f-ff1a-4087-ab6a-ec5d699487cb\",\"repo:modifyDate\":\"2023-05-18T03:57:38Z\",\"@type\":\"image/jpeg\",\"repo:path\":\"/content/dam/central/brands/non-food/mc-jeans/MC_JEANS_2.jpg\"}}}' data-cmp-is=\"image\" data-cmp-lazy=\"\" data-cmp-lazythreshold=\"0\" data-cmp-src=\"/adobe/dynamicmedia/deliver/dm-aid--e6949b7f-ff1a-4087-ab6a-ec5d699487cb/mc-jeans-2.jpg?width={width}&amp;preferwebp=true&amp;quality=60\" data-cmp-widths=\"425,768,1024,1440\" id=\"image-c30869bcb4\" itemscope=\"\" itemtype=\"http://schema.org/ImageObject\">\n",
       "<noscript data-cmp-hook-image=\"noscript\">\n",
       "<img alt=\"\" class=\"cmp-image__image\" data-cmp-hook-image=\"image\" itemprop=\"contentUrl\" src=\"/adobe/dynamicmedia/deliver/dm-aid--e6949b7f-ff1a-4087-ab6a-ec5d699487cb/mc-jeans-2.jpg?preferwebp=true&amp;quality=60\"/>\n",
       "</noscript>\n",
       "</div>\n",
       "</div>\n",
       "<div class=\"text aem-GridColumn aem-GridColumn--default--8\">\n",
       "<div class=\"cmp-text\" data-cmp-data-layer='{\"text-dd65df2e0b\":{\"@type\":\"cgcommons/components/text\",\"xdm:text\":\"&lt;p style=\\\"text-align: center;\\\"&gt;MC JEANS แบรนด์ยีนส์เดนิมคุณภาพสัญชาติไทยที่ใครๆ ก็ใส่แล้วเท่&lt;br&gt;เลือกซื้อกางเกงยีนส์ เสื้อยืด เดนิม แจ๊กแก็ต ฯลฯ ผ้าเนื้อดีทรงสวยเนี๊ยบ&lt;br&gt;ใส่เท่ไม่เหมือนใคร รับประกันคุณภาพ มั่นใจได้ว่าของแท้ ช้อปเลย ส่งเร็ว&lt;/p&gt;\"}}' id=\"text-dd65df2e0b\">\n",
       "<p style=\"\ttext-align: center;\n",
       "\">MC JEANS แบรนด์ยีนส์เดนิมคุณภาพสัญชาติไทยที่ใครๆ ก็ใส่แล้วเท่<br/>เลือกซื้อกางเกงยีนส์ เสื้อยืด เดนิม แจ๊กแก็ต ฯลฯ ผ้าเนื้อดีทรงสวยเนี๊ยบ<br/>ใส่เท่ไม่เหมือนใคร รับประกันคุณภาพ มั่นใจได้ว่าของแท้ ช้อปเลย ส่งเร็ว</p>\n",
       "</div>\n",
       "</div>\n",
       "</div>\n",
       "</div>\n",
       "</div>\n",
       "<div class=\"productlist\">\n",
       "<div class=\"container\" data-brand=\"558\" data-facets=\"false\" data-hitsperpage=\"50\" data-plp-variant=\"brand\" data-props=\"{disableBadge=false, disableTimer=false, disableDeliveryOptions=false, disableProductLabel=false, disableDiscountPrice=false, disablePrice=false, disableDiscount=false, disableCart=false, disableCarousel=false, disableWishlist=false, disableFlip=false, disablePromoLabel=false, disableProductInfoBadge=false, disableBrand=false, disableFacets=false}\" data-variant=\"brand\" id=\"plp-container\">\n",
       "<div class=\"container\" data-hitsperpage=\"50\" id=\"emptyNosearchBox\">\n",
       "<div class=\"alert alert-danger algolia-error alert-dismissible fade show d-none\" role=\"alert\">\n",
       "<img alt=\"Warning Icon\" src=\"/etc.clientlibs/cds/clientlibs/clientlib-cds/resources/images/icons/warning.svg\"/>\n",
       "<p class=\"algolia-errorMsg\">\n",
       "        Something went wrong, please try again later!\n",
       "      </p>\n",
       "<button aria-label=\"Close\" class=\"btn-close algolia-errorBtn\" data-testid=\"btn-removeAlgoliaError-closeBtn\" type=\"button\"></button>\n",
       "</div>\n",
       "<div id=\"searchSuggestions\"></div>\n",
       "</div>\n",
       "<div id=\"results-page-wrap\">\n",
       "<h1 class=\"category-pagetitle\" data-testid=\"txt-viewCategoryAlgolia-Title\">\n",
       "        MC JEANS\n",
       "      </h1>\n",
       "<div class=\"slider-section\">\n",
       "<div class=\"slider cslider\" id=\"category-slider\"></div>\n",
       "</div>\n",
       "<!-- Side Nav bar filters -->\n",
       "<div class=\"sidebar-product-listing side-navbar\">\n",
       "<div class=\"sidebar-wrapper pl\">\n",
       "<div class=\"panel-header\" data-testid=\"inf-viewAllFilterPanel-Header\">\n",
       "<div class=\"close-full-filter close-btn\" data-testid=\"inf-closeAllFilterPanel-CloseAllFilter\">\n",
       "<div class=\"icon-close icon\"></div>\n",
       "</div>\n",
       "<div class=\"title-filter d-none d-lg-flex\">Filter</div>\n",
       "<div class=\"title-filter d-flex d-lg-none text-nowrap\">Filters</div>\n",
       "<div class=\"clear-filters clear-refinements\"></div>\n",
       "</div>\n",
       "<div class=\"panel-content\" id=\"facetsWrapper\">\n",
       "<div class=\"panel-content\" id=\"dynamic-widgets\"></div>\n",
       "</div>\n",
       "<div class=\"panel-actions\">\n",
       "<button aria-label=\"Show Results\" class=\"show-results\" data-testid=\"btn-viewAllFilterPanel-showAllFilterResults\"></button>\n",
       "</div>\n",
       "</div>\n",
       "<div class=\"overlay\" data-testid=\"inf-viewAllFilterPanel-Overlay\"></div>\n",
       "</div>\n",
       "<!-- Main filters -->\n",
       "<div class=\"main-filters pl container\">\n",
       "<div class=\"CategoryAlgoliaView__StyledWrapperFilter-sc-nno76l-2 filter-wrapper\">\n",
       "<div class=\"SearchFilters__StyledFilterWrapper-sc-1lw6ol3-3 filter-container\" data-testid=\"inf-viewSearchFilterOnFilterWrapper\">\n",
       "<div class=\"search-filters\" id=\"dynamic-filter-container\">\n",
       "<div class=\"sort-by-container\">\n",
       "<div class=\"sort-dropdown filter-dropdown\">\n",
       "<button aria-label=\"Sort By\" class=\"filter-button sort-button\" data-testid=\"btn-viewProductFilter-filterSort\">\n",
       "<div class=\"sort-value-icon\">Sort</div>\n",
       "<div class=\"search-overflow sort-value\">Sort: Recommended</div>\n",
       "</button>\n",
       "<div class=\"sort-by-overlay\"></div>\n",
       "<div class=\"sort-view\" data-facet=\"sort-facet\" data-testid=\"lst-viewFilterDropdownButtonOnDropdownColor\" id=\"dynamic-widgets-main--sort-by\"></div>\n",
       "</div>\n",
       "</div>\n",
       "<div class=\"filters-list\" id=\"dynamic-widgets-main\"></div>\n",
       "<a class=\"SearchFilters__StyledAllFilterButton-sc-1lw6ol3-1 fcgUke filter-toggle\" data-testid=\"mnu-viewSearchFilterOnAllFilter\">\n",
       "<svg fill=\"none\" height=\"16\" viewbox=\"0 0 16 16\" width=\"16\" xmlns=\"http://www.w3.org/2000/svg\">\n",
       "<!-- SVG Paths -->\n",
       "</svg>\n",
       "<span class=\"search-overflow d-none d-lg-flex\">All Filters<span class=\"allFilter-count\"></span></span>\n",
       "<span class=\"search-overflow d-flex d-lg-none text-nowrap\">Filter<span class=\"allFilter-count\"></span></span>\n",
       "</a>\n",
       "</div>\n",
       "</div>\n",
       "<div class=\"overlay-main d-lg-none d-none\" data-testid=\"inf-viewAllFilterPanel-Overlay\"></div>\n",
       "</div>\n",
       "</div>\n",
       "<!-- Product Listing Wraper -->\n",
       "<div class=\"product-listing-wraper\" data-chatnow=\"/content/cds/th/en/central-chat-and-shop-stores\">\n",
       "<!-- loading screen -->\n",
       "<div class=\"loading\">\n",
       "<div class=\"product-list\">\n",
       "<div class=\"product-item\">\n",
       "<span class=\"image animated-background\"></span>\n",
       "<span class=\"title animated-background\"></span>\n",
       "<span class=\"price animated-background\"></span>\n",
       "<span class=\"button animated-background\"></span>\n",
       "</div>\n",
       "<div class=\"product-item\">\n",
       "<span class=\"image animated-background\"></span>\n",
       "<span class=\"title animated-background\"></span>\n",
       "<span class=\"price animated-background\"></span>\n",
       "<span class=\"button animated-background\"></span>\n",
       "</div>\n",
       "<div class=\"product-item\">\n",
       "<span class=\"image animated-background\"></span>\n",
       "<span class=\"title animated-background\"></span>\n",
       "<span class=\"price animated-background\"></span>\n",
       "<span class=\"button animated-background\"></span>\n",
       "</div>\n",
       "<div class=\"product-item\">\n",
       "<span class=\"image animated-background\"></span>\n",
       "<span class=\"title animated-background\"></span>\n",
       "<span class=\"price animated-background\"></span>\n",
       "<span class=\"button animated-background\"></span>\n",
       "</div>\n",
       "<div class=\"product-item\">\n",
       "<span class=\"image animated-background\"></span>\n",
       "<span class=\"title animated-background\"></span>\n",
       "<span class=\"price animated-background\"></span>\n",
       "<span class=\"button animated-background\"></span>\n",
       "</div>\n",
       "</div>\n",
       "</div>\n",
       "<div class=\"SearchProductListView__StyledTitle-sc-1ym0k7m-5 product-results\" data-testid=\"inf-viewProductResultsFound\"></div>\n",
       "<div data-widget=\"hits\" id=\"product-list\"></div>\n",
       "<div data-widget=\"pagination\" id=\"products-pagination\"></div>\n",
       "</div>\n",
       "</div>\n",
       "</div>\n",
       "</div>\n",
       "</div>\n",
       "</div>\n",
       "</div>\n",
       "</div>\n",
       "</div>"
      ]
     },
     "execution_count": 20,
     "metadata": {},
     "output_type": "execute_result"
    }
   ],
   "source": [
    "divs = soup.find_all(\"div\", class_=\"central_container\")\n",
    "divs[6]"
   ]
  },
  {
   "cell_type": "code",
   "execution_count": 25,
   "metadata": {},
   "outputs": [
    {
     "name": "stdout",
     "output_type": "stream",
     "text": [
      "<div data-widget=\"hits\" id=\"product-list\">\n",
      "</div>\n",
      "\n"
     ]
    }
   ],
   "source": [
    "from bs4 import BeautifulSoup\n",
    "import requests\n",
    "\n",
    "url = \"https://www.central.co.th/en/mc-jeans\"\n",
    "response = requests.get(url)\n",
    "\n",
    "if response.status_code == 200:\n",
    "    soup = BeautifulSoup(response.content, \"html.parser\")\n",
    "\n",
    "    # Find the parent <div> (replace 'parent-class-name' with the actual class name)\n",
    "    parent_div = soup.find_all(\"div\", class_=\"central_container\")  # Change this to the parent div's class\n",
    "    if parent_div:\n",
    "        # Find all <div> with class \"sliderItem productCard\" within the parent <div>\n",
    "        specific_parent_div  = parent_div[6]\n",
    "        nested_div = specific_parent_div.find(\"div\", {\"data-widget\": \"hits\", \"id\": \"product-list\"})\n",
    "        print(nested_div.prettify())\n",
    "        # for idx, div in enumerate(child_divs):\n",
    "        #     print(f\"Text from nested <div> #{idx + 1}:\", div.get_text(strip=True))\n",
    "    else:\n",
    "        print(\"Parent <div> not found.\")\n",
    "else:\n",
    "    print(f\"Failed to fetch the URL. Status code: {response.status_code}\")\n"
   ]
  },
  {
   "cell_type": "code",
   "execution_count": null,
   "metadata": {},
   "outputs": [],
   "source": [
    "from selenium import webdriver\n",
    "from bs4 import BeautifulSoup\n",
    "# import requests\n",
    "import time\n",
    "\n",
    "driver = webdriver.Chrome()  # Ensure chromedriver is installed and in your PATH\n",
    "url = \"https://www.central.co.th/en/mc-jeans\"\n",
    "driver.get(url)\n",
    "\n",
    "time.sleep(5)\n",
    "\n",
    "rendered_html = driver.page_source\n",
    "soup = BeautifulSoup(rendered_html, \"html.parser\")"
   ]
  },
  {
   "cell_type": "code",
   "execution_count": 17,
   "metadata": {},
   "outputs": [],
   "source": [
    "# Find all <div> with class \"central_container\"\n",
    "parent_divs = soup.find_all(\"div\", class_=\"central_container\")\n",
    "if len(parent_divs) > 1:  # Ensure the 7th <div> exists\n",
    "    # Access the 7th <div>\n",
    "    specific_parent_div = parent_divs[1]\n",
    "\n",
    "    # Find the nested <div> with data-widget=\"hits\" and id=\"product-list\"\n",
    "    product_list_div = specific_parent_div.find(\"div\", {\"data-widget\": \"hits\", \"id\": \"product-list\"})\n",
    "    if product_list_div:\n",
    "        # Find <div class=\"ais-Hits\">\n",
    "        ais_hits_div = product_list_div.find(\"div\", class_=\"ais-Hits\")\n",
    "        if ais_hits_div:\n",
    "            # Find <ol class=\"ais-Hits-list\">\n",
    "            hits_list = ais_hits_div.find_all(\"div\", class_=\"sliderItem productCard\")\n",
    "            # if hits_list:\n",
    "            #     # Find all <li class=\"ais-Hits-list\"> within the <ol>\n",
    "            #     hit_items = hits_list.find_all(\"li\", class_=\"ais-Hits-list\")\n",
    "            #     for idx, li in enumerate(hit_items):\n",
    "            #         print(f\"Item #{idx + 1}:\")\n",
    "            #         print(li.get_text(strip=True))  # Extract and print the text inside each <li>\n",
    "            #         print(\"-\" * 20)\n",
    "            # else:\n",
    "            #     print(\"<ol class='ais-Hits-list'> not found.\")\n",
    "        else:\n",
    "            print(\"<div class='ais-Hits'> not found.\")\n",
    "    else:\n",
    "        print(\"<div data-widget='hits' id='product-list'> not found.\")\n",
    "else:\n",
    "    print(\"There are fewer than 7 <div> tags with class 'central_container'.\")"
   ]
  },
  {
   "cell_type": "markdown",
   "metadata": {},
   "source": [
    "## Raw data"
   ]
  },
  {
   "cell_type": "code",
   "execution_count": null,
   "metadata": {},
   "outputs": [],
   "source": [
    "for i in range(len(50)):\n",
    "    data = hits_list[i].prettify()\n",
    "    data_list = data.split(\"\\n\")\n",
    "    "
   ]
  },
  {
   "cell_type": "markdown",
   "metadata": {},
   "source": [
    "## get data"
   ]
  },
  {
   "cell_type": "markdown",
   "metadata": {},
   "source": [
    "### product-sku, product-name, product-price"
   ]
  },
  {
   "cell_type": "code",
   "execution_count": 161,
   "metadata": {},
   "outputs": [],
   "source": [
    "data_product = []\n",
    "number_product = 3"
   ]
  },
  {
   "cell_type": "code",
   "execution_count": 162,
   "metadata": {},
   "outputs": [
    {
     "name": "stdout",
     "output_type": "stream",
     "text": [
      "['product-name===Flip-flops Black M09Z031', 'product-sku===MKP1299549']\n"
     ]
    }
   ],
   "source": [
    "data = hits_list[number_product].prettify()\n",
    "data_attributes_0  = data.split(\"\\n\")[0].split(\"data-\")\n",
    "data_attributes_0\n",
    "\n",
    "desired_keys_0 = ['product-sku','product-name'] #'product-price'\n",
    "data_list_0 = [attr.replace('\"','').rstrip().replace('=','===') for attr in data_attributes_0 if any(attr.startswith(key) for key in desired_keys_0)]\n",
    "print(data_list_0)\n",
    "data_product = data_product+data_list_0"
   ]
  },
  {
   "cell_type": "code",
   "execution_count": 163,
   "metadata": {},
   "outputs": [
    {
     "name": "stdout",
     "output_type": "stream",
     "text": [
      "['product-final-price===802.5', 'product-original-price===995', 'product-discount-bath===192.5', 'product-discount-percent===19']\n"
     ]
    }
   ],
   "source": [
    "data_attributes_1 = data.split(\"\\n\")\n",
    "# print(data_attributes_1)\n",
    "\n",
    "# desired_keys = ['product-finalprice','product-originalprice','product-pricesave']\n",
    "\n",
    "data_list_1 = [attr.replace(' ', '').replace('฿','') for attr in data_attributes_1 if attr.replace(' ', '').startswith(\"฿\")]\n",
    "data_list_1 = data_list_1[:3]\n",
    "\n",
    "discount_percent= float(data_list_1[-1])*100/float(data_list_1[-2])\n",
    "\n",
    "data_list_1.append(str(int(discount_percent)))\n",
    "data_list_1\n",
    "\n",
    "keys = ['product-final-price','product-original-price','product-discount-bath','product-discount-percent']\n",
    "merged_list = [f\"{key}==={value}\" for key, value in zip(keys, data_list_1)]\n",
    "print(merged_list)\n",
    "data_product = data_product+merged_list"
   ]
  },
  {
   "cell_type": "markdown",
   "metadata": {},
   "source": [
    "### product-categories, product-config-sku"
   ]
  },
  {
   "cell_type": "code",
   "execution_count": 164,
   "metadata": {},
   "outputs": [
    {
     "name": "stdout",
     "output_type": "stream",
     "text": [
      "product-categories===Men,Men Shoes,Men Flip-Flops\n",
      "product-config-sku===\"size36\":{\"sku\":\"MKP1299550\"},\"size37\":{\"sku\":\"MKP1299549\"},\"size39\":{\"sku\":\"MKP1299544\"},\"size42\":{\"sku\":\"MKP1299543\"},\"size40\":{\"sku\":\"MKP1299539\"},\"size41\":{\"sku\":\"MKP1299545\"},\"size43\":{\"sku\":\"MKP1299541\"},\"size38\":{\"sku\":\"MKP1299547\"}\n"
     ]
    }
   ],
   "source": [
    "import re\n",
    "import json\n",
    "\n",
    "desired_keys_2 = ['product-categories','product-config-sku']\n",
    "\n",
    "data_attributes_2  = data.split(\"\\n\")[0].split(\"data-\")\n",
    "data_list_2 = [attr for attr in data_attributes_2 if any(attr.startswith(key) for key in desired_keys_2)]\n",
    "data_list_2\n",
    "\n",
    "## product-categories\n",
    "input_string = data_list_2[0].split(\":\")[-1]\n",
    "cleaned_string = re.sub(r'[\\'\"\\[\\]{}]', '', input_string)\n",
    "split_string = cleaned_string.split(' /// ')\n",
    "result = ','.join(split_string).rstrip()\n",
    "data_product.append(f'product-categories==={result}')\n",
    "print(f'product-categories==={result}')\n",
    "\n",
    "## product-config-sku\n",
    "input_string = data_list_2[1].split(\"'\")[1]\n",
    "# json_part = input_string.split('=', 1)[1].strip(' \\'')\n",
    "# json_part\n",
    "parsed_dict = json.loads(input_string)\n",
    "transformed_dict = {f\"size{v['size']}\": {\"sku\": v[\"sku\"]} for k, v in parsed_dict.items()}\n",
    "result = json.dumps(transformed_dict, separators=(',', ':')).strip('{}')+'}'\n",
    "data_product.append('product-config-sku==='+result)\n",
    "print('product-config-sku==='+result)"
   ]
  },
  {
   "cell_type": "markdown",
   "metadata": {},
   "source": [
    "## get image"
   ]
  },
  {
   "cell_type": "code",
   "execution_count": 165,
   "metadata": {},
   "outputs": [
    {
     "name": "stdout",
     "output_type": "stream",
     "text": [
      "product-image===https://assets.central.co.th//adobe/dynamicmedia/deliver/dm-aid--d5dc46fe-1afd-424f-90d4-d31f01571a3e/mcjeans-flip-flopsblackm09z031-mkp1299549-1.jpg?preferwebp=true&amp;quality=85&amp;width=199\n"
     ]
    }
   ],
   "source": [
    "url = data.split(\"\\n\")[3].split('src=')[-1]\n",
    "cleaned_url = url.strip('\\'\"').rstrip('/>').strip('\"')\n",
    "cleaned_url\n",
    "data_product.append('product-image==='+cleaned_url)\n",
    "print('product-image==='+cleaned_url)"
   ]
  },
  {
   "cell_type": "code",
   "execution_count": 166,
   "metadata": {},
   "outputs": [
    {
     "name": "stdout",
     "output_type": "stream",
     "text": [
      "['product-name===Flip-flops Black M09Z031', 'product-sku===MKP1299549', 'product-final-price===802.5', 'product-original-price===995', 'product-discount-bath===192.5', 'product-discount-percent===19', 'product-categories===Men,Men Shoes,Men Flip-Flops', 'product-config-sku===\"size36\":{\"sku\":\"MKP1299550\"},\"size37\":{\"sku\":\"MKP1299549\"},\"size39\":{\"sku\":\"MKP1299544\"},\"size42\":{\"sku\":\"MKP1299543\"},\"size40\":{\"sku\":\"MKP1299539\"},\"size41\":{\"sku\":\"MKP1299545\"},\"size43\":{\"sku\":\"MKP1299541\"},\"size38\":{\"sku\":\"MKP1299547\"}', 'product-image===https://assets.central.co.th//adobe/dynamicmedia/deliver/dm-aid--d5dc46fe-1afd-424f-90d4-d31f01571a3e/mcjeans-flip-flopsblackm09z031-mkp1299549-1.jpg?preferwebp=true&amp;quality=85&amp;width=199']\n"
     ]
    }
   ],
   "source": [
    "print(data_product)"
   ]
  },
  {
   "cell_type": "markdown",
   "metadata": {},
   "source": [
    "## list to dict"
   ]
  },
  {
   "cell_type": "code",
   "execution_count": 167,
   "metadata": {},
   "outputs": [
    {
     "name": "stdout",
     "output_type": "stream",
     "text": [
      "{'product-name': 'Flip-flops Black M09Z031', 'product-sku': 'MKP1299549', 'product-final-price': '802.5', 'product-original-price': '995', 'product-discount-bath': '192.5', 'product-discount-percent': '19', 'product-categories': 'Men,Men Shoes,Men Flip-Flops', 'product-config-sku': 'size36\":{\"sku\":\"MKP1299550\"},\"size37\":{\"sku\":\"MKP1299549\"},\"size39\":{\"sku\":\"MKP1299544\"},\"size42\":{\"sku\":\"MKP1299543\"},\"size40\":{\"sku\":\"MKP1299539\"},\"size41\":{\"sku\":\"MKP1299545\"},\"size43\":{\"sku\":\"MKP1299541\"},\"size38\":{\"sku\":\"MKP1299547\"}', 'product-image': 'https://assets.central.co.th//adobe/dynamicmedia/deliver/dm-aid--d5dc46fe-1afd-424f-90d4-d31f01571a3e/mcjeans-flip-flopsblackm09z031-mkp1299549-1.jpg?preferwebp=true&amp;quality=85&amp;width=199'}\n"
     ]
    }
   ],
   "source": [
    "# Convert to dictionary\n",
    "attributes_dict = {}\n",
    "for attribute in data_product:\n",
    "    # print(attribute)\n",
    "    key, value = attribute.split(\"===\")  # Split at the '='\n",
    "    attributes_dict[key.strip()] = value.strip().strip('\"')  # Remove spaces and quotes\n",
    "\n",
    "# Print the dictionary\n",
    "print(attributes_dict)\n"
   ]
  }
 ],
 "metadata": {
  "kernelspec": {
   "display_name": "LLM",
   "language": "python",
   "name": "python3"
  },
  "language_info": {
   "codemirror_mode": {
    "name": "ipython",
    "version": 3
   },
   "file_extension": ".py",
   "mimetype": "text/x-python",
   "name": "python",
   "nbconvert_exporter": "python",
   "pygments_lexer": "ipython3",
   "version": "3.11.11"
  }
 },
 "nbformat": 4,
 "nbformat_minor": 2
}
