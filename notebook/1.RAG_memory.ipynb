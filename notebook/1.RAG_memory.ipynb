{
 "cells": [
  {
   "cell_type": "code",
   "execution_count": 101,
   "metadata": {},
   "outputs": [],
   "source": [
    "from selenium import webdriver\n",
    "from bs4 import BeautifulSoup\n",
    "# import requests\n",
    "import time\n",
    "\n",
    "driver = webdriver.Chrome()  # Ensure chromedriver is installed and in your PATH\n",
    "url = \"https://www.central.co.th/en/mc-jeans?page=2\"\n",
    "driver.get(url)\n",
    "\n",
    "time.sleep(5)\n",
    "\n",
    "rendered_html = driver.page_source\n",
    "soup = BeautifulSoup(rendered_html, \"html.parser\")"
   ]
  },
  {
   "cell_type": "code",
   "execution_count": 103,
   "metadata": {},
   "outputs": [],
   "source": [
    "# Find all <div> with class \"central_container\"\n",
    "parent_divs = soup.find_all(\"div\", class_=\"central_container\")\n",
    "if len(parent_divs) > 1:  # Ensure the 7th <div> exists\n",
    "    # Access the 7th <div>\n",
    "    specific_parent_div = parent_divs[6]\n",
    "\n",
    "    # Find the nested <div> with data-widget=\"hits\" and id=\"product-list\"\n",
    "    product_list_div = specific_parent_div.find(\"div\", {\"data-widget\": \"hits\", \"id\": \"product-list\"})\n",
    "    if product_list_div:\n",
    "        # Find <div class=\"ais-Hits\">\n",
    "        ais_hits_div = product_list_div.find(\"div\", class_=\"ais-Hits\")\n",
    "        if ais_hits_div:\n",
    "            # Find <ol class=\"ais-Hits-list\">\n",
    "            hits_list = ais_hits_div.find_all(\"div\", class_=\"sliderItem productCard\")\n",
    "\n",
    "        else:\n",
    "            print(\"<div class='ais-Hits'> not found.\")\n",
    "    else:\n",
    "        print(\"<div data-widget='hits' id='product-list'> not found.\")\n",
    "else:\n",
    "    print(\"There are fewer than 7 <div> tags with class 'central_container'.\")"
   ]
  },
  {
   "cell_type": "markdown",
   "metadata": {},
   "source": [
    "## Raw data"
   ]
  },
  {
   "cell_type": "markdown",
   "metadata": {},
   "source": [
    "## get data"
   ]
  },
  {
   "cell_type": "markdown",
   "metadata": {},
   "source": [
    "### product-sku, product-name, product-price"
   ]
  },
  {
   "cell_type": "code",
   "execution_count": 112,
   "metadata": {},
   "outputs": [],
   "source": [
    "data_product = []\n",
    "number_product = 1"
   ]
  },
  {
   "cell_type": "code",
   "execution_count": 113,
   "metadata": {},
   "outputs": [
    {
     "name": "stdout",
     "output_type": "stream",
     "text": [
      "[\"product-name===Women's Jeans slim MBDP18520 Black\", 'product-sku===MKP0366150']\n"
     ]
    }
   ],
   "source": [
    "data = hits_list[number_product].prettify()\n",
    "data_attributes_0  = data.split(\"\\n\")[0].split(\"data-\")\n",
    "data_attributes_0\n",
    "\n",
    "desired_keys_0 = ['product-sku','product-name'] #'product-price'\n",
    "data_list_0 = [attr.replace('\"','').rstrip().replace('=','===') for attr in data_attributes_0 if any(attr.startswith(key) for key in desired_keys_0)]\n",
    "print(data_list_0)\n",
    "data_product = data_product+data_list_0"
   ]
  },
  {
   "cell_type": "code",
   "execution_count": 114,
   "metadata": {},
   "outputs": [
    {
     "name": "stdout",
     "output_type": "stream",
     "text": [
      "['product-final-price===1,295', 'product-original-price===2195', 'product-discount-bath===900', 'product-discount-percent===41']\n"
     ]
    }
   ],
   "source": [
    "data_attributes_1 = data.split(\"\\n\")\n",
    "# print(data_attributes_1)\n",
    "\n",
    "# desired_keys = ['product-finalprice','product-originalprice','product-pricesave']\n",
    "\n",
    "data_list_1 = [attr.replace(' ', '').replace('฿','') for attr in data_attributes_1 if attr.replace(' ', '').startswith(\"฿\")]\n",
    "data_list_1 = data_list_1[:3]\n",
    "\n",
    "discount_percent= float(data_list_1[-1])*100/float(data_list_1[-2])\n",
    "\n",
    "data_list_1.append(str(int(discount_percent)))\n",
    "data_list_1\n",
    "\n",
    "keys = ['product-final-price','product-original-price','product-discount-bath','product-discount-percent']\n",
    "merged_list = [f\"{key}==={value}\" for key, value in zip(keys, data_list_1)]\n",
    "print(merged_list)\n",
    "data_product = data_product+merged_list"
   ]
  },
  {
   "cell_type": "markdown",
   "metadata": {},
   "source": [
    "### product-categories, product-config-sku"
   ]
  },
  {
   "cell_type": "code",
   "execution_count": 118,
   "metadata": {},
   "outputs": [
    {
     "name": "stdout",
     "output_type": "stream",
     "text": [
      "product-categories===Women,Women Clothing,Women Pants,Women Skinny Pants\n",
      "product-config-sku==={\"size28 EU\":{\"sku\":\"MKP0366163\"},\"size27 EU\":{\"sku\":\"MKP0366150\"}}\n"
     ]
    }
   ],
   "source": [
    "import re\n",
    "import json\n",
    "\n",
    "desired_keys_2 = ['product-categories','product-config-sku']\n",
    "\n",
    "data_attributes_2  = data.split(\"\\n\")[0].split(\"data-\")\n",
    "data_list_2 = [attr for attr in data_attributes_2 if any(attr.startswith(key) for key in desired_keys_2)]\n",
    "data_list_2\n",
    "\n",
    "## product-categories\n",
    "input_string = data_list_2[0].split(\":\")[-1]\n",
    "cleaned_string = re.sub(r'[\\'\"\\[\\]{}]', '', input_string)\n",
    "split_string = cleaned_string.split(' /// ')\n",
    "result = ','.join(split_string).rstrip()\n",
    "data_product.append(f'product-categories==={result}')\n",
    "print(f'product-categories==={result}')\n",
    "\n",
    "## product-config-sku\n",
    "if len(data_list_2[1].split(\"'\")) > 1:\n",
    "    input_string = data_list_2[1].split(\"'\")[1]\n",
    "    parsed_dict = json.loads(input_string)\n",
    "    transformed_dict = {f\"size{v['size']}\": {\"sku\": v[\"sku\"]} for k, v in parsed_dict.items()}\n",
    "    result = json.dumps(transformed_dict, separators=(',', ':')).strip('{}')+'}'\n",
    "    data_product.append('product-config-sku==='+'{'+result+'}')\n",
    "    print('product-config-sku==='+'{'+result+'}')\n",
    "else:\n",
    "    result = 'None'\n",
    "    data_product.append('product-config-sku==='+result)\n",
    "    print('product-config-sku==='+result)"
   ]
  },
  {
   "cell_type": "markdown",
   "metadata": {},
   "source": [
    "## get image"
   ]
  },
  {
   "cell_type": "code",
   "execution_count": 116,
   "metadata": {},
   "outputs": [
    {
     "name": "stdout",
     "output_type": "stream",
     "text": [
      "product-image===https://assets.central.co.th/MCJEANS-WomensJeansslimMBDP18520Black-MKP0366150-1?$JPEG$&amp;wid=199\n"
     ]
    }
   ],
   "source": [
    "url = data.split(\"\\n\")[3].split('src=')[-1]\n",
    "cleaned_url = url.strip('\\'\"').rstrip('/>').strip('\"')\n",
    "cleaned_url\n",
    "data_product.append('product-image==='+cleaned_url)\n",
    "print('product-image==='+cleaned_url)"
   ]
  },
  {
   "cell_type": "code",
   "execution_count": 117,
   "metadata": {},
   "outputs": [
    {
     "name": "stdout",
     "output_type": "stream",
     "text": [
      "[\"product-name===Women's Jeans slim MBDP18520 Black\", 'product-sku===MKP0366150', 'product-final-price===1,295', 'product-original-price===2195', 'product-discount-bath===900', 'product-discount-percent===41', 'product-categories===Women,Women Clothing,Women Pants,Women Skinny Pants', 'product-config-sku===\"size28 EU\":{\"sku\":\"MKP0366163\"},\"size27 EU\":{\"sku\":\"MKP0366150\"}', 'product-image===https://assets.central.co.th/MCJEANS-WomensJeansslimMBDP18520Black-MKP0366150-1?$JPEG$&amp;wid=199']\n"
     ]
    }
   ],
   "source": [
    "print(data_product)"
   ]
  },
  {
   "cell_type": "markdown",
   "metadata": {},
   "source": [
    "## list to dict"
   ]
  },
  {
   "cell_type": "code",
   "execution_count": 120,
   "metadata": {},
   "outputs": [
    {
     "name": "stdout",
     "output_type": "stream",
     "text": [
      "{'product-name': \"Women's Jeans slim MBDP18520 Black\", 'product-sku': 'MKP0366150', 'product-final-price': '1,295', 'product-original-price': '2195', 'product-discount-bath': '900', 'product-discount-percent': '41', 'product-categories': 'Women,Women Clothing,Women Pants,Women Skinny Pants', 'product-config-sku': '{\"size28 EU\":{\"sku\":\"MKP0366163\"},\"size27 EU\":{\"sku\":\"MKP0366150\"}}', 'product-image': 'https://assets.central.co.th/MCJEANS-WomensJeansslimMBDP18520Black-MKP0366150-1?$JPEG$&amp;wid=199'}\n"
     ]
    },
    {
     "data": {
      "text/plain": [
       "{'product-name': \"Women's Jeans slim MBDP18520 Black\",\n",
       " 'product-sku': 'MKP0366150',\n",
       " 'product-final-price': '1,295',\n",
       " 'product-original-price': '2195',\n",
       " 'product-discount-bath': '900',\n",
       " 'product-discount-percent': '41',\n",
       " 'product-categories': 'Women,Women Clothing,Women Pants,Women Skinny Pants',\n",
       " 'product-config-sku': '{\"size28 EU\":{\"sku\":\"MKP0366163\"},\"size27 EU\":{\"sku\":\"MKP0366150\"}}',\n",
       " 'product-image': 'https://assets.central.co.th/MCJEANS-WomensJeansslimMBDP18520Black-MKP0366150-1?$JPEG$&amp;wid=199'}"
      ]
     },
     "execution_count": 120,
     "metadata": {},
     "output_type": "execute_result"
    }
   ],
   "source": [
    "# Convert to dictionary\n",
    "attributes_dict = {}\n",
    "for attribute in data_product:\n",
    "    # print(attribute)\n",
    "    key, value = attribute.split(\"===\")  # Split at the '='\n",
    "    attributes_dict[key.strip()] = value.strip().strip('\"')  # Remove spaces and quotes\n",
    "\n",
    "# Print the dictionary\n",
    "print(attributes_dict)\n",
    "attributes_dict\n",
    "\n"
   ]
  },
  {
   "cell_type": "markdown",
   "metadata": {},
   "source": [
    "# -----------------------"
   ]
  },
  {
   "cell_type": "code",
   "execution_count": 123,
   "metadata": {},
   "outputs": [],
   "source": [
    "import re\n",
    "import json\n",
    "from selenium import webdriver\n",
    "from bs4 import BeautifulSoup\n",
    "import time\n",
    "\n",
    "def html_parser(url):\n",
    "    driver = webdriver.Chrome()  # Ensure chromedriver is installed and in your PATH\n",
    "    driver.get(url)\n",
    "    \n",
    "    time.sleep(5)\n",
    "    rendered_html = driver.page_source\n",
    "    soup = BeautifulSoup(rendered_html, \"html.parser\")\n",
    "    return(soup)\n",
    "\n",
    "    \n",
    "\n",
    "def hits_list(soup):\n",
    "    parent_divs = soup.find_all(\"div\", class_=\"central_container\")\n",
    "    if len(parent_divs) > 1:  \n",
    "    \n",
    "        specific_parent_div = parent_divs[6]\n",
    "        \n",
    "        product_list_div = specific_parent_div.find(\"div\", {\"data-widget\": \"hits\", \"id\": \"product-list\"})\n",
    "        if product_list_div:\n",
    "        \n",
    "            ais_hits_div = product_list_div.find(\"div\", class_=\"ais-Hits\")\n",
    "            if ais_hits_div:\n",
    "                hits_list = ais_hits_div.find_all(\"div\", class_=\"sliderItem productCard\")\n",
    "\n",
    "            else:\n",
    "                print(\"<div class='ais-Hits'> not found.\")\n",
    "        else:\n",
    "            print(\"<div data-widget='hits' id='product-list'> not found.\")\n",
    "    else:\n",
    "        print(\"There are fewer than 7 <div> tags with class 'central_container'.\")\n",
    "    \n",
    "    return(hits_list)\n",
    "\n",
    "def get_data_0(hits_list):\n",
    "    # data = hits_list[index_product].prettify()\n",
    "    data_attributes_0  = hits_list.split(\"\\n\")[0].split(\"data-\")\n",
    "    data_attributes_0\n",
    "\n",
    "    desired_keys_0 = ['product-sku','product-name'] #'product-price'\n",
    "    data_list_0 = [attr.replace('\"','').rstrip().replace('=','===') for attr in data_attributes_0 if any(attr.startswith(key) for key in desired_keys_0)]\n",
    "    # print(data_list_0)\n",
    "    # data_product = data_product+data_list_0\n",
    "    return (data_list_0)\n",
    "    \n",
    "def get_data_1(hits_list):\n",
    "    data_attributes_1 = hits_list.split(\"\\n\")\n",
    "    # print(data_attributes_1)\n",
    "\n",
    "    # desired_keys = ['product-finalprice','product-originalprice','product-pricesave']\n",
    "\n",
    "    data_list_1 = [attr.replace(' ', '').replace('฿','') for attr in data_attributes_1 if attr.replace(' ', '').startswith(\"฿\")]\n",
    "    data_list_1 = data_list_1[:3]\n",
    "\n",
    "    discount_percent= float(data_list_1[-1])*100/float(data_list_1[-2])\n",
    "\n",
    "    data_list_1.append(str(int(discount_percent)))\n",
    "    data_list_1\n",
    "\n",
    "    keys = ['product-final-price','product-original-price','product-discount-bath','product-discount-percent']\n",
    "    merged_list = [f\"{key}==={value}\" for key, value in zip(keys, data_list_1)]\n",
    "    # print(merged_list)\n",
    "    # data_product = data_product+merged_list\n",
    "    return(merged_list)\n",
    "    \n",
    "def get_data_2(hits_list):\n",
    "    data_list = []\n",
    "\n",
    "    desired_keys_2 = ['product-categories','product-config-sku']\n",
    "\n",
    "    data_attributes_2  = hits_list.split(\"\\n\")[0].split(\"data-\")\n",
    "    data_list_2 = [attr for attr in data_attributes_2 if any(attr.startswith(key) for key in desired_keys_2)]\n",
    "\n",
    "    ## product-categories\n",
    "    input_string = data_list_2[0].split(\":\")[-1]\n",
    "    cleaned_string = re.sub(r'[\\'\"\\[\\]{}]', '', input_string)\n",
    "    split_string = cleaned_string.split(' /// ')\n",
    "    result = ','.join(split_string).rstrip()\n",
    "    data_list.append(f'product-categories==={result}')\n",
    "    # print(f'product-categories==={result}')\n",
    "\n",
    "    ## product-config-sku\n",
    "    if len(data_list_2[1].split(\"'\")) > 1:\n",
    "        input_string = data_list_2[1].split(\"'\")[1]\n",
    "        parsed_dict = json.loads(input_string)\n",
    "        transformed_dict = {f\"size{v['size']}\": {\"sku\": v[\"sku\"]} for k, v in parsed_dict.items()}\n",
    "        result = json.dumps(transformed_dict, separators=(',', ':')).strip('{}')+'}'\n",
    "        data_list.append('product-config-sku==='+'{'+result+'}')\n",
    "    else:\n",
    "        result = 'None'\n",
    "        data_list.append('product-config-sku==='+result)\n",
    "        print('product-config-sku: None')\n",
    "    # print('product-config-sku==='+result)\n",
    "    \n",
    "    return(data_list)\n",
    "    \n",
    "def get_data_3(hits_list):\n",
    "    url = hits_list.split(\"\\n\")[3].split('src=')[-1]\n",
    "    cleaned_url = url.strip('\\'\"').rstrip('/>').strip('\"')\n",
    "    \n",
    "    # data_product.append('product-image==='+cleaned_url)\n",
    "    data_list = [f\"product-image==={cleaned_url}\"]\n",
    "    # print('product-image==='+cleaned_url)\n",
    "    return(data_list)\n",
    "    \n",
    "# def list_2_dict(data_list):\n",
    "#     result_dict = {}\n",
    "#     for item in data_list:\n",
    "#         key, value = item.split('===', 1)  # Split into key and value\n",
    "#         try:\n",
    "#             # Attempt to parse value as JSON if possible\n",
    "#             value = json.loads(value)\n",
    "#         except json.JSONDecodeError:\n",
    "#             pass  # Leave as string if not JSON\n",
    "#         result_dict[key] = value\n",
    "\n",
    "#     return result_dict\n",
    "\n",
    "def list_2_dict(data_list):\n",
    "    result_dict = {}\n",
    "    for item in data_list:\n",
    "        key, value = item.split(\"===\")  # Split into key and value\n",
    "        result_dict[key.strip()] = value.strip().strip('\"')\n",
    "\n",
    "    return result_dict\n",
    "    \n",
    "def schema_metadata(data):\n",
    "    config_sku_str = data[\"product-config-sku\"]\n",
    "    config_sku_dict = json.loads(\"{\" + config_sku_str + \"}\")  # Adding braces to make it valid JSON\n",
    "\n",
    "    # Create the transformed structure\n",
    "    transformed_data = {\n",
    "        data[\"product-sku\"]: {\n",
    "            \"product-final-price\": data[\"product-final-price\"],\n",
    "            \"product-original-price\": data[\"product-original-price\"],\n",
    "            \"product-discount-percent\": data[\"product-discount-percent\"],\n",
    "            \"product-config-sku\": config_sku_dict,\n",
    "            \"product-image\": data[\"product-image\"]\n",
    "        }\n",
    "    }\n",
    "    return(transformed_data)\n",
    "\n",
    "def schema_vecterdata(data):\n",
    "    config_sku_str = data[\"product-config-sku\"]\n",
    "    config_sku_dict = json.loads(\"{\" + config_sku_str + \"}\")  # Adding braces to make it valid JSON\n",
    "\n",
    "    # Create the transformed structure\n",
    "    transformed_data = {\n",
    "        \"product-sku\": data[\"product-final-price\"],\n",
    "        \"embedding\": None,\n",
    "        \"fields\": {\n",
    "            \"product-name\": data[\"product-name\"],\n",
    "            \"product-categories\": data[\"product-categories\"]\n",
    "            }\n",
    "    }\n",
    "    return(transformed_data)    "
   ]
  },
  {
   "cell_type": "code",
   "execution_count": 124,
   "metadata": {},
   "outputs": [
    {
     "name": "stdout",
     "output_type": "stream",
     "text": [
      "Running ... : https://www.central.co.th/en/mc-jeans?page=1\n",
      "Running ... : https://www.central.co.th/en/mc-jeans?page=2\n",
      "product-config-sku: None\n",
      "product-config-sku: None\n",
      "product-config-sku: None\n",
      "product-config-sku: None\n",
      "product-config-sku: None\n",
      "product-config-sku: None\n",
      "product-config-sku: None\n",
      "Running ... : https://www.central.co.th/en/mc-jeans?page=3\n"
     ]
    }
   ],
   "source": [
    "data_dict_result=[]\n",
    "for page in range(1,4,1):\n",
    "    url =\"https://www.central.co.th/en/mc-jeans\"\n",
    "    url_page = f\"https://www.central.co.th/en/mc-jeans?page={page}\"\n",
    "    print(f'Running ... : {url_page}')\n",
    "    soup = html_parser(url_page)\n",
    "    html_data = hits_list(soup)\n",
    "    \n",
    "    for index in range(len(html_data)):\n",
    "        data_list=[]\n",
    "        data = html_data[index].prettify()\n",
    "        \n",
    "        data_0 = get_data_0(data)\n",
    "        data_list = data_list+data_0\n",
    "        \n",
    "        data_1 = get_data_1(data)\n",
    "        data_list = data_list+data_1\n",
    "        \n",
    "        data_2 = get_data_2(data)\n",
    "        data_list = data_list+data_2\n",
    "        \n",
    "        data_3 = get_data_3(data)\n",
    "        data_list = data_list+data_3\n",
    "        \n",
    "        data_dict = list_2_dict(data_list)\n",
    "        # print(data_dict)\n",
    "        \n",
    "        data_dict_result.append(data_dict)\n",
    "\n",
    "    # data_dict_result\n",
    "    # with open(\"output.json\", \"w\") as json_file:\n",
    "    #     json.dump(data_dict_result, json_file, indent=4)"
   ]
  },
  {
   "cell_type": "code",
   "execution_count": 128,
   "metadata": {},
   "outputs": [],
   "source": [
    "with open(\"product_data.json\", \"w\") as json_file:\n",
    "    json.dump(data_dict_result, json_file, indent=4)"
   ]
  },
  {
   "cell_type": "markdown",
   "metadata": {},
   "source": [
    "## Chroma database"
   ]
  },
  {
   "cell_type": "code",
   "execution_count": 1,
   "metadata": {},
   "outputs": [],
   "source": [
    "import json\n",
    "\n",
    "with open('product_data.json', 'r') as file:\n",
    "    products_data = json.load(file)"
   ]
  },
  {
   "cell_type": "code",
   "execution_count": 2,
   "metadata": {},
   "outputs": [],
   "source": [
    "import chromadb\n",
    "from sentence_transformers import SentenceTransformer\n",
    "\n",
    "client = chromadb.Client()\n",
    "model = SentenceTransformer('all-MiniLM-L6-v2')\n",
    "\n",
    "collection_name = 'product_embeddings'\n",
    "collection = client.create_collection(collection_name)"
   ]
  },
  {
   "cell_type": "code",
   "execution_count": 3,
   "metadata": {},
   "outputs": [],
   "source": [
    "# Delete all documents in the collection  # Deletes everything in the collection\n",
    "\n",
    "for product in products_data:\n",
    "    text_to_embed = product[\"product-name\"] + \" for \" + product[\"product-categories\"]\n",
    "    # print(text_to_embed)\n",
    "    \n",
    "    # Ensure the model returns a valid embedding\n",
    "    embedding = model.encode(text_to_embed)\n",
    "    embedding = embedding.tolist()\n",
    "    # print(embedding)\n",
    "    \n",
    "    # Store embedding in Chroma\n",
    "    collection.add(\n",
    "        documents=[product[\"product-sku\"]],\n",
    "        embeddings=[embedding],  # Ensure embedding is a list of floats\n",
    "        metadatas=[product],\n",
    "        ids=[product[\"product-sku\"]]\n",
    "    )\n",
    "    "
   ]
  },
  {
   "cell_type": "code",
   "execution_count": 13,
   "metadata": {},
   "outputs": [
    {
     "name": "stdout",
     "output_type": "stream",
     "text": [
      "['MKP1036776', 'MKP1036796']\n"
     ]
    }
   ],
   "source": [
    "# Querying: Search for similar products based on a query\n",
    "query = \"short pant for women\"\n",
    "query_embedding = model.encode(query)\n",
    "\n",
    "# Retrieve most similar products\n",
    "results = collection.query(\n",
    "    query_embeddings=[query_embedding],\n",
    "    n_results=2  # Return top 2 results\n",
    ")\n",
    "\n",
    "# Display results\n",
    "for result in results['documents']:\n",
    "    print(result)"
   ]
  },
  {
   "cell_type": "code",
   "execution_count": null,
   "metadata": {},
   "outputs": [],
   "source": [
    "# Retrieve the most relevant passages based on the query\n",
    "def get_relevant_passage(query: str, db, n_results: int):\n",
    "    results = db.query(query_texts=[query], n_results=n_results)\n",
    "    return [doc[0] for doc in results['documents']]\n",
    "\n",
    "query = \"What is the AI Maturity Scale?\"\n",
    "relevant_text = get_relevant_passage(query, db, n_results=1)\n",
    "\n",
    "# Construct a prompt for the generation model based on the query and retrieved data\n",
    "def make_rag_prompt(query: str, relevant_passage: str):\n",
    "    escaped_passage = relevant_passage.replace(\"'\", \"\").replace('\"', \"\").replace(\"\\n\", \" \")\n",
    "    prompt = f\"\"\"You are a helpful and informative bot that answers questions using text from the reference passage included below.\n",
    "Be sure to respond in a complete sentence, being comprehensive, including all relevant background information.\n",
    "However, you are talking to a non-technical audience, so be sure to break down complicated concepts and\n",
    "strike a friendly and conversational tone.\n",
    "QUESTION: '{query}'\n",
    "PASSAGE: '{escaped_passage}'\n",
    "\n",
    "ANSWER:\n",
    "\"\"\"\n",
    "    return prompt\n",
    "\n",
    "# Generate an answer using the Gemini Pro API\n",
    "def generate_answer(prompt: str):\n",
    "    gemini_api_key = os.getenv(\"GEMINI_API_KEY\")\n",
    "    if not gemini_api_key:\n",
    "        raise ValueError(\"Gemini API Key not provided. Please provide GEMINI_API_KEY as an environment variable\")\n",
    "    genai.configure(api_key=gemini_api_key)\n",
    "    model = genai.GenerativeModel('gemini-pro')\n",
    "    result = model.generate_content(prompt)\n",
    "    return result.text\n",
    "\n",
    "# Construct the prompt and generate the answer\n",
    "final_prompt = make_rag_prompt(query, \"\".join(relevant_text))\n",
    "answer = generate_answer(final_prompt)\n",
    "print(answer)\n",
    "\n",
    "# Interactive function to process user input and generate an answer\n",
    "def process_query_and_generate_answer():\n",
    "    query = input(\"Please enter your query: \")\n",
    "    if not query:\n",
    "        print(\"No query provided.\")\n",
    "        return\n",
    "    db = load_chroma_collection(db_path, db_name)\n",
    "    relevant_text = get_relevant_passage(query, db, n_results=1)\n",
    "    if not relevant_text:\n",
    "        print(\"No relevant information found for the given query.\")\n",
    "        return\n",
    "    final_prompt = make_rag_prompt(query, \"\".join(relevant_text))\n",
    "    answer = generate_answer(final_prompt)\n",
    "    print(\"Generated Answer:\", answer)\n",
    "\n",
    "# Invoke the function to interact with user\n",
    "process_query_and_generate_answer()"
   ]
  }
 ],
 "metadata": {
  "kernelspec": {
   "display_name": "LLM",
   "language": "python",
   "name": "python3"
  },
  "language_info": {
   "codemirror_mode": {
    "name": "ipython",
    "version": 3
   },
   "file_extension": ".py",
   "mimetype": "text/x-python",
   "name": "python",
   "nbconvert_exporter": "python",
   "pygments_lexer": "ipython3",
   "version": "3.11.11"
  }
 },
 "nbformat": 4,
 "nbformat_minor": 2
}
